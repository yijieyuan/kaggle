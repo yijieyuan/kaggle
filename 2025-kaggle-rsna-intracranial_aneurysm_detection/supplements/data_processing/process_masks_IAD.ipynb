{
 "cells": [
  {
   "cell_type": "code",
   "execution_count": 7,
   "id": "3a4c7c9e",
   "metadata": {},
   "outputs": [
    {
     "name": "stdout",
     "output_type": "stream",
     "text": [
      "Found 170 mask files to process\n",
      "\n",
      "Target orientation: LPS (RAS+)\n",
      "  Dim 0: Right → Left\n",
      "  Dim 1: Anterior → Posterior\n",
      "  Dim 2: Inferior → Superior (Foot → Head)\n",
      "\n"
     ]
    },
    {
     "name": "stderr",
     "output_type": "stream",
     "text": [
      "Converting to nnUNet format:   0%|          | 0/170 [00:00<?, ?it/s]"
     ]
    },
    {
     "name": "stdout",
     "output_type": "stream",
     "text": [
      "\n",
      "Processing 1.2.826.0.1.3680043.8.498.10035643165968342618460849823699311381...\n"
     ]
    },
    {
     "name": "stderr",
     "output_type": "stream",
     "text": [
      "Converting to nnUNet format:   1%|          | 1/170 [00:01<03:53,  1.38s/it]"
     ]
    },
    {
     "name": "stdout",
     "output_type": "stream",
     "text": [
      "\n",
      "Processing 1.2.826.0.1.3680043.8.498.10076056930521523789588901704956188485...\n"
     ]
    },
    {
     "name": "stderr",
     "output_type": "stream",
     "text": [
      "Converting to nnUNet format:   1%|          | 2/170 [00:02<03:53,  1.39s/it]"
     ]
    },
    {
     "name": "stdout",
     "output_type": "stream",
     "text": [
      "\n",
      "Processing 1.2.826.0.1.3680043.8.498.10188636688783982623025997809119805350...\n"
     ]
    },
    {
     "name": "stderr",
     "output_type": "stream",
     "text": [
      "Converting to nnUNet format:   2%|▏         | 3/170 [00:03<03:39,  1.31s/it]"
     ]
    },
    {
     "name": "stdout",
     "output_type": "stream",
     "text": [
      "\n",
      "Processing 1.2.826.0.1.3680043.8.498.10410600166004340343973545138447283460...\n"
     ]
    },
    {
     "name": "stderr",
     "output_type": "stream",
     "text": [
      "Converting to nnUNet format:   2%|▏         | 4/170 [00:05<03:33,  1.28s/it]"
     ]
    },
    {
     "name": "stdout",
     "output_type": "stream",
     "text": [
      "\n",
      "Processing 1.2.826.0.1.3680043.8.498.10540586847553109495238524904638776495...\n"
     ]
    },
    {
     "name": "stderr",
     "output_type": "stream",
     "text": [
      "Converting to nnUNet format:   3%|▎         | 5/170 [00:06<03:17,  1.20s/it]"
     ]
    },
    {
     "name": "stdout",
     "output_type": "stream",
     "text": [
      "\n",
      "Processing 1.2.826.0.1.3680043.8.498.10557880026294057874761753231388788828...\n"
     ]
    },
    {
     "name": "stderr",
     "output_type": "stream",
     "text": [
      "Converting to nnUNet format:   4%|▎         | 6/170 [00:07<03:11,  1.17s/it]"
     ]
    },
    {
     "name": "stdout",
     "output_type": "stream",
     "text": [
      "\n",
      "Processing 1.2.826.0.1.3680043.8.498.10759842474698331813589731619457567641...\n"
     ]
    },
    {
     "name": "stderr",
     "output_type": "stream",
     "text": [
      "Converting to nnUNet format:   4%|▍         | 7/170 [00:08<03:03,  1.12s/it]"
     ]
    },
    {
     "name": "stdout",
     "output_type": "stream",
     "text": [
      "\n",
      "Processing 1.2.826.0.1.3680043.8.498.10838261583340080792086755879475952843...\n"
     ]
    },
    {
     "name": "stderr",
     "output_type": "stream",
     "text": [
      "Converting to nnUNet format:   5%|▍         | 8/170 [00:09<02:56,  1.09s/it]"
     ]
    },
    {
     "name": "stdout",
     "output_type": "stream",
     "text": [
      "\n",
      "Processing 1.2.826.0.1.3680043.8.498.10865391592895615633871689438787039175...\n"
     ]
    },
    {
     "name": "stderr",
     "output_type": "stream",
     "text": [
      "Converting to nnUNet format:   5%|▌         | 9/170 [00:10<02:51,  1.06s/it]"
     ]
    },
    {
     "name": "stdout",
     "output_type": "stream",
     "text": [
      "\n",
      "Processing 1.2.826.0.1.3680043.8.498.10929608782694347957516071062422315982...\n"
     ]
    },
    {
     "name": "stderr",
     "output_type": "stream",
     "text": [
      "Converting to nnUNet format:   6%|▌         | 10/170 [00:11<02:52,  1.08s/it]"
     ]
    },
    {
     "name": "stdout",
     "output_type": "stream",
     "text": [
      "\n",
      "Processing 1.2.826.0.1.3680043.8.498.10935907012185032169927418164924236382...\n"
     ]
    },
    {
     "name": "stderr",
     "output_type": "stream",
     "text": [
      "Converting to nnUNet format:   6%|▋         | 11/170 [00:12<02:50,  1.07s/it]"
     ]
    },
    {
     "name": "stdout",
     "output_type": "stream",
     "text": [
      "\n",
      "Processing 1.2.826.0.1.3680043.8.498.11140496970152788589837488009637704168...\n"
     ]
    },
    {
     "name": "stderr",
     "output_type": "stream",
     "text": [
      "Converting to nnUNet format:   7%|▋         | 12/170 [00:13<02:45,  1.05s/it]"
     ]
    },
    {
     "name": "stdout",
     "output_type": "stream",
     "text": [
      "\n",
      "Processing 1.2.826.0.1.3680043.8.498.11163718560814217911019576488539324434...\n"
     ]
    },
    {
     "name": "stderr",
     "output_type": "stream",
     "text": [
      "Converting to nnUNet format:   8%|▊         | 13/170 [00:14<02:43,  1.04s/it]"
     ]
    },
    {
     "name": "stdout",
     "output_type": "stream",
     "text": [
      "\n",
      "Processing 1.2.826.0.1.3680043.8.498.11365717786702723641614356829695498020...\n"
     ]
    },
    {
     "name": "stderr",
     "output_type": "stream",
     "text": [
      "Converting to nnUNet format:   8%|▊         | 14/170 [00:15<02:46,  1.07s/it]"
     ]
    },
    {
     "name": "stdout",
     "output_type": "stream",
     "text": [
      "\n",
      "Processing 1.2.826.0.1.3680043.8.498.11422928060228360802778018026859204182...\n"
     ]
    },
    {
     "name": "stderr",
     "output_type": "stream",
     "text": [
      "Converting to nnUNet format:   9%|▉         | 15/170 [00:16<02:51,  1.11s/it]"
     ]
    },
    {
     "name": "stdout",
     "output_type": "stream",
     "text": [
      "\n",
      "Processing 1.2.826.0.1.3680043.8.498.11447542941959800581541313722844637822...\n"
     ]
    },
    {
     "name": "stderr",
     "output_type": "stream",
     "text": [
      "Converting to nnUNet format:   9%|▉         | 16/170 [00:18<03:04,  1.20s/it]"
     ]
    },
    {
     "name": "stdout",
     "output_type": "stream",
     "text": [
      "\n",
      "Processing 1.2.826.0.1.3680043.8.498.11504459395565711149380261095223705023...\n"
     ]
    },
    {
     "name": "stderr",
     "output_type": "stream",
     "text": [
      "Converting to nnUNet format:  10%|█         | 17/170 [00:19<02:59,  1.17s/it]"
     ]
    },
    {
     "name": "stdout",
     "output_type": "stream",
     "text": [
      "\n",
      "Processing 1.2.826.0.1.3680043.8.498.11557464859397815362951522785245632020...\n"
     ]
    },
    {
     "name": "stderr",
     "output_type": "stream",
     "text": [
      "Converting to nnUNet format:  11%|█         | 18/170 [00:20<02:52,  1.14s/it]"
     ]
    },
    {
     "name": "stdout",
     "output_type": "stream",
     "text": [
      "\n",
      "Processing 1.2.826.0.1.3680043.8.498.11624217734793256238140178687655335066...\n"
     ]
    },
    {
     "name": "stderr",
     "output_type": "stream",
     "text": [
      "Converting to nnUNet format:  11%|█         | 19/170 [00:21<02:53,  1.15s/it]"
     ]
    },
    {
     "name": "stdout",
     "output_type": "stream",
     "text": [
      "\n",
      "Processing 1.2.826.0.1.3680043.8.498.11639720015527164474926997755882681707...\n"
     ]
    },
    {
     "name": "stderr",
     "output_type": "stream",
     "text": [
      "Converting to nnUNet format:  12%|█▏        | 20/170 [00:22<02:53,  1.16s/it]"
     ]
    },
    {
     "name": "stdout",
     "output_type": "stream",
     "text": [
      "\n",
      "Processing 1.2.826.0.1.3680043.8.498.11641438607169452758239778414614826230...\n"
     ]
    },
    {
     "name": "stderr",
     "output_type": "stream",
     "text": [
      "Converting to nnUNet format:  12%|█▏        | 21/170 [00:24<02:51,  1.15s/it]"
     ]
    },
    {
     "name": "stdout",
     "output_type": "stream",
     "text": [
      "\n",
      "Processing 1.2.826.0.1.3680043.8.498.11821446229980500432989393232863242415...\n"
     ]
    },
    {
     "name": "stderr",
     "output_type": "stream",
     "text": [
      "Converting to nnUNet format:  13%|█▎        | 22/170 [00:26<03:38,  1.48s/it]"
     ]
    },
    {
     "name": "stdout",
     "output_type": "stream",
     "text": [
      "\n",
      "Processing 1.2.826.0.1.3680043.8.498.11924949819899884502738782576851659426...\n"
     ]
    },
    {
     "name": "stderr",
     "output_type": "stream",
     "text": [
      "Converting to nnUNet format:  14%|█▎        | 23/170 [00:27<03:14,  1.32s/it]"
     ]
    },
    {
     "name": "stdout",
     "output_type": "stream",
     "text": [
      "\n",
      "Processing 1.2.826.0.1.3680043.8.498.11936548827981649628619858103408216131...\n"
     ]
    },
    {
     "name": "stderr",
     "output_type": "stream",
     "text": [
      "Converting to nnUNet format:  14%|█▍        | 24/170 [00:28<02:57,  1.22s/it]"
     ]
    },
    {
     "name": "stdout",
     "output_type": "stream",
     "text": [
      "\n",
      "Processing 1.2.826.0.1.3680043.8.498.11938739392606296532297884225608408867...\n"
     ]
    },
    {
     "name": "stderr",
     "output_type": "stream",
     "text": [
      "Converting to nnUNet format:  15%|█▍        | 25/170 [00:30<03:29,  1.45s/it]"
     ]
    },
    {
     "name": "stdout",
     "output_type": "stream",
     "text": [
      "\n",
      "Processing 1.2.826.0.1.3680043.8.498.11999987145696510072091906561590137848...\n"
     ]
    },
    {
     "name": "stderr",
     "output_type": "stream",
     "text": [
      "Converting to nnUNet format:  15%|█▌        | 26/170 [00:31<03:23,  1.41s/it]"
     ]
    },
    {
     "name": "stdout",
     "output_type": "stream",
     "text": [
      "\n",
      "Processing 1.2.826.0.1.3680043.8.498.12120466814973152883968194455550619351...\n"
     ]
    },
    {
     "name": "stderr",
     "output_type": "stream",
     "text": [
      "Converting to nnUNet format:  16%|█▌        | 27/170 [00:32<03:12,  1.35s/it]"
     ]
    },
    {
     "name": "stdout",
     "output_type": "stream",
     "text": [
      "\n",
      "Processing 1.2.826.0.1.3680043.8.498.12132622846836853200891705613461466627...\n"
     ]
    },
    {
     "name": "stderr",
     "output_type": "stream",
     "text": [
      "Converting to nnUNet format:  16%|█▋        | 28/170 [00:33<03:00,  1.27s/it]"
     ]
    },
    {
     "name": "stdout",
     "output_type": "stream",
     "text": [
      "\n",
      "Processing 1.2.826.0.1.3680043.8.498.12180351938456969219537687190067731477...\n"
     ]
    },
    {
     "name": "stderr",
     "output_type": "stream",
     "text": [
      "Converting to nnUNet format:  17%|█▋        | 29/170 [00:35<02:59,  1.28s/it]"
     ]
    },
    {
     "name": "stdout",
     "output_type": "stream",
     "text": [
      "\n",
      "Processing 1.2.826.0.1.3680043.8.498.12226380705607315060235896835122737788...\n"
     ]
    },
    {
     "name": "stderr",
     "output_type": "stream",
     "text": [
      "Converting to nnUNet format:  18%|█▊        | 30/170 [00:36<02:51,  1.22s/it]"
     ]
    },
    {
     "name": "stdout",
     "output_type": "stream",
     "text": [
      "\n",
      "Processing 1.2.826.0.1.3680043.8.498.12283701604837916064212605259577798418...\n"
     ]
    },
    {
     "name": "stderr",
     "output_type": "stream",
     "text": [
      "Converting to nnUNet format:  18%|█▊        | 31/170 [00:37<02:42,  1.17s/it]"
     ]
    },
    {
     "name": "stdout",
     "output_type": "stream",
     "text": [
      "\n",
      "Processing 1.2.826.0.1.3680043.8.498.12427930128533148989436011949311706348...\n"
     ]
    },
    {
     "name": "stderr",
     "output_type": "stream",
     "text": [
      "Converting to nnUNet format:  19%|█▉        | 32/170 [00:38<02:43,  1.19s/it]"
     ]
    },
    {
     "name": "stdout",
     "output_type": "stream",
     "text": [
      "\n",
      "Processing 1.2.826.0.1.3680043.8.498.12709802490782896897031103447163443069...\n"
     ]
    },
    {
     "name": "stderr",
     "output_type": "stream",
     "text": [
      "Converting to nnUNet format:  19%|█▉        | 33/170 [00:39<02:49,  1.24s/it]"
     ]
    },
    {
     "name": "stdout",
     "output_type": "stream",
     "text": [
      "\n",
      "Processing 1.2.826.0.1.3680043.8.498.12773309706735630359315214846273921394...\n"
     ]
    },
    {
     "name": "stderr",
     "output_type": "stream",
     "text": [
      "Converting to nnUNet format:  20%|██        | 34/170 [00:41<03:00,  1.33s/it]"
     ]
    },
    {
     "name": "stdout",
     "output_type": "stream",
     "text": [
      "\n",
      "Processing 1.2.826.0.1.3680043.8.498.12780116426159918728945213894055885771...\n"
     ]
    },
    {
     "name": "stderr",
     "output_type": "stream",
     "text": [
      "Converting to nnUNet format:  21%|██        | 35/170 [00:42<03:10,  1.41s/it]"
     ]
    },
    {
     "name": "stdout",
     "output_type": "stream",
     "text": [
      "\n",
      "Processing 1.2.826.0.1.3680043.8.498.12792960392435514526913217158720555996...\n"
     ]
    },
    {
     "name": "stderr",
     "output_type": "stream",
     "text": [
      "Converting to nnUNet format:  21%|██        | 36/170 [00:44<03:18,  1.48s/it]"
     ]
    },
    {
     "name": "stdout",
     "output_type": "stream",
     "text": [
      "\n",
      "Processing 1.2.826.0.1.3680043.8.498.12812390336793304037901571645929430100...\n"
     ]
    },
    {
     "name": "stderr",
     "output_type": "stream",
     "text": [
      "Converting to nnUNet format:  22%|██▏       | 37/170 [00:46<03:15,  1.47s/it]"
     ]
    },
    {
     "name": "stdout",
     "output_type": "stream",
     "text": [
      "\n",
      "Processing 1.2.826.0.1.3680043.8.498.12873050136415197430227722045995986358...\n"
     ]
    },
    {
     "name": "stderr",
     "output_type": "stream",
     "text": [
      "Converting to nnUNet format:  22%|██▏       | 38/170 [00:47<03:07,  1.42s/it]"
     ]
    },
    {
     "name": "stdout",
     "output_type": "stream",
     "text": [
      "\n",
      "Processing 1.2.826.0.1.3680043.8.498.12888459003897616398890411591973176636...\n"
     ]
    },
    {
     "name": "stderr",
     "output_type": "stream",
     "text": [
      "Converting to nnUNet format:  23%|██▎       | 39/170 [00:48<02:55,  1.34s/it]"
     ]
    },
    {
     "name": "stdout",
     "output_type": "stream",
     "text": [
      "\n",
      "Processing 1.2.826.0.1.3680043.8.498.12896910506681881306246412668919668702...\n"
     ]
    },
    {
     "name": "stderr",
     "output_type": "stream",
     "text": [
      "Converting to nnUNet format:  24%|██▎       | 40/170 [00:49<02:59,  1.38s/it]"
     ]
    },
    {
     "name": "stdout",
     "output_type": "stream",
     "text": [
      "\n",
      "Processing 1.2.826.0.1.3680043.8.498.12898332622076283462996059479076432725...\n"
     ]
    },
    {
     "name": "stderr",
     "output_type": "stream",
     "text": [
      "Converting to nnUNet format:  24%|██▍       | 41/170 [00:51<03:11,  1.48s/it]"
     ]
    },
    {
     "name": "stdout",
     "output_type": "stream",
     "text": [
      "\n",
      "Processing 1.2.826.0.1.3680043.8.498.12904246053955178641505906243733756576...\n"
     ]
    },
    {
     "name": "stderr",
     "output_type": "stream",
     "text": [
      "Converting to nnUNet format:  25%|██▍       | 42/170 [00:53<03:05,  1.45s/it]"
     ]
    },
    {
     "name": "stdout",
     "output_type": "stream",
     "text": [
      "\n",
      "Processing 1.2.826.0.1.3680043.8.498.12914952223659958493995413641114579279...\n"
     ]
    },
    {
     "name": "stderr",
     "output_type": "stream",
     "text": [
      "Converting to nnUNet format:  25%|██▌       | 43/170 [00:54<03:03,  1.44s/it]"
     ]
    },
    {
     "name": "stdout",
     "output_type": "stream",
     "text": [
      "\n",
      "Processing 1.2.826.0.1.3680043.8.498.13128656559176299272467358793386537400...\n"
     ]
    },
    {
     "name": "stderr",
     "output_type": "stream",
     "text": [
      "Converting to nnUNet format:  26%|██▌       | 44/170 [00:56<03:14,  1.54s/it]"
     ]
    },
    {
     "name": "stdout",
     "output_type": "stream",
     "text": [
      "\n",
      "Processing 1.2.826.0.1.3680043.8.498.13359737970612926494907045108541390310...\n"
     ]
    },
    {
     "name": "stderr",
     "output_type": "stream",
     "text": [
      "Converting to nnUNet format:  26%|██▋       | 45/170 [00:57<03:07,  1.50s/it]"
     ]
    },
    {
     "name": "stdout",
     "output_type": "stream",
     "text": [
      "\n",
      "Processing 1.2.826.0.1.3680043.8.498.13789305723712362238118274295587312089...\n"
     ]
    },
    {
     "name": "stderr",
     "output_type": "stream",
     "text": [
      "Converting to nnUNet format:  27%|██▋       | 46/170 [00:59<03:12,  1.55s/it]"
     ]
    },
    {
     "name": "stdout",
     "output_type": "stream",
     "text": [
      "\n",
      "Processing 1.2.826.0.1.3680043.8.498.15111820005882064793593034423469604305...\n"
     ]
    },
    {
     "name": "stderr",
     "output_type": "stream",
     "text": [
      "Converting to nnUNet format:  28%|██▊       | 47/170 [01:00<03:04,  1.50s/it]"
     ]
    },
    {
     "name": "stdout",
     "output_type": "stream",
     "text": [
      "\n",
      "Processing 1.2.826.0.1.3680043.8.498.15412988336827906186857260013885503248...\n"
     ]
    },
    {
     "name": "stderr",
     "output_type": "stream",
     "text": [
      "Converting to nnUNet format:  28%|██▊       | 48/170 [01:02<02:59,  1.47s/it]"
     ]
    },
    {
     "name": "stdout",
     "output_type": "stream",
     "text": [
      "\n",
      "Processing 1.2.826.0.1.3680043.8.498.15777485274723969278718374949878560903...\n"
     ]
    },
    {
     "name": "stderr",
     "output_type": "stream",
     "text": [
      "Converting to nnUNet format:  29%|██▉       | 49/170 [01:03<03:05,  1.53s/it]"
     ]
    },
    {
     "name": "stdout",
     "output_type": "stream",
     "text": [
      "\n",
      "Processing 1.2.826.0.1.3680043.8.498.16386250344855221757144432829845114733...\n"
     ]
    },
    {
     "name": "stderr",
     "output_type": "stream",
     "text": [
      "Converting to nnUNet format:  29%|██▉       | 50/170 [01:05<03:03,  1.53s/it]"
     ]
    },
    {
     "name": "stdout",
     "output_type": "stream",
     "text": [
      "\n",
      "Processing 1.2.826.0.1.3680043.8.498.16984390277144742906667579449023180512...\n"
     ]
    },
    {
     "name": "stderr",
     "output_type": "stream",
     "text": [
      "Converting to nnUNet format:  30%|███       | 51/170 [01:06<03:03,  1.54s/it]"
     ]
    },
    {
     "name": "stdout",
     "output_type": "stream",
     "text": [
      "\n",
      "Processing 1.2.826.0.1.3680043.8.498.17415277997649872560329721717694101082...\n"
     ]
    },
    {
     "name": "stderr",
     "output_type": "stream",
     "text": [
      "Converting to nnUNet format:  31%|███       | 52/170 [01:08<03:06,  1.58s/it]"
     ]
    },
    {
     "name": "stdout",
     "output_type": "stream",
     "text": [
      "\n",
      "Processing 1.2.826.0.1.3680043.8.498.19675288020914733249608417166086280506...\n"
     ]
    },
    {
     "name": "stderr",
     "output_type": "stream",
     "text": [
      "Converting to nnUNet format:  31%|███       | 53/170 [01:10<03:08,  1.61s/it]"
     ]
    },
    {
     "name": "stdout",
     "output_type": "stream",
     "text": [
      "\n",
      "Processing 1.2.826.0.1.3680043.8.498.19915189891686122627071348069843885714...\n"
     ]
    },
    {
     "name": "stderr",
     "output_type": "stream",
     "text": [
      "Converting to nnUNet format:  32%|███▏      | 54/170 [01:11<03:05,  1.60s/it]"
     ]
    },
    {
     "name": "stdout",
     "output_type": "stream",
     "text": [
      "\n",
      "Processing 1.2.826.0.1.3680043.8.498.20627322154402566045565159680288078498...\n",
      "Flipping dimension 2 (HF -> IS)\n"
     ]
    },
    {
     "name": "stderr",
     "output_type": "stream",
     "text": [
      "Converting to nnUNet format:  32%|███▏      | 55/170 [01:13<02:52,  1.50s/it]"
     ]
    },
    {
     "name": "stdout",
     "output_type": "stream",
     "text": [
      "\n",
      "Processing 1.2.826.0.1.3680043.8.498.21004106426734635526381567602936015568...\n"
     ]
    },
    {
     "name": "stderr",
     "output_type": "stream",
     "text": [
      "Converting to nnUNet format:  33%|███▎      | 56/170 [01:14<02:49,  1.49s/it]"
     ]
    },
    {
     "name": "stdout",
     "output_type": "stream",
     "text": [
      "\n",
      "Processing 1.2.826.0.1.3680043.8.498.21260453249991608190728327379762807665...\n"
     ]
    },
    {
     "name": "stderr",
     "output_type": "stream",
     "text": [
      "Converting to nnUNet format:  34%|███▎      | 57/170 [01:16<03:19,  1.76s/it]"
     ]
    },
    {
     "name": "stdout",
     "output_type": "stream",
     "text": [
      "\n",
      "Processing 1.2.826.0.1.3680043.8.498.23047023542526806696555440426928375679...\n"
     ]
    },
    {
     "name": "stderr",
     "output_type": "stream",
     "text": [
      "Converting to nnUNet format:  34%|███▍      | 58/170 [01:18<03:08,  1.68s/it]"
     ]
    },
    {
     "name": "stdout",
     "output_type": "stream",
     "text": [
      "\n",
      "Processing 1.2.826.0.1.3680043.8.498.23055827202917388669053993133576833763...\n"
     ]
    },
    {
     "name": "stderr",
     "output_type": "stream",
     "text": [
      "Converting to nnUNet format:  35%|███▍      | 59/170 [01:19<02:59,  1.62s/it]"
     ]
    },
    {
     "name": "stdout",
     "output_type": "stream",
     "text": [
      "\n",
      "Processing 1.2.826.0.1.3680043.8.498.24023896361071846724104915533800547445...\n"
     ]
    },
    {
     "name": "stderr",
     "output_type": "stream",
     "text": [
      "Converting to nnUNet format:  35%|███▌      | 60/170 [01:21<02:55,  1.59s/it]"
     ]
    },
    {
     "name": "stdout",
     "output_type": "stream",
     "text": [
      "\n",
      "Processing 1.2.826.0.1.3680043.8.498.24587963869128721940158079207224095554...\n"
     ]
    },
    {
     "name": "stderr",
     "output_type": "stream",
     "text": [
      "Converting to nnUNet format:  36%|███▌      | 61/170 [01:23<03:10,  1.74s/it]"
     ]
    },
    {
     "name": "stdout",
     "output_type": "stream",
     "text": [
      "\n",
      "Processing 1.2.826.0.1.3680043.8.498.24941924992372724575490063788348447936...\n"
     ]
    },
    {
     "name": "stderr",
     "output_type": "stream",
     "text": [
      "Converting to nnUNet format:  36%|███▋      | 62/170 [01:25<03:03,  1.70s/it]"
     ]
    },
    {
     "name": "stdout",
     "output_type": "stream",
     "text": [
      "\n",
      "Processing 1.2.826.0.1.3680043.8.498.27693546360513068451517048347207987807...\n"
     ]
    },
    {
     "name": "stderr",
     "output_type": "stream",
     "text": [
      "Converting to nnUNet format:  37%|███▋      | 63/170 [01:26<02:57,  1.66s/it]"
     ]
    },
    {
     "name": "stdout",
     "output_type": "stream",
     "text": [
      "\n",
      "Processing 1.2.826.0.1.3680043.8.498.27857528510177554953207997404329765760...\n"
     ]
    },
    {
     "name": "stderr",
     "output_type": "stream",
     "text": [
      "Converting to nnUNet format:  38%|███▊      | 64/170 [01:28<02:51,  1.62s/it]"
     ]
    },
    {
     "name": "stdout",
     "output_type": "stream",
     "text": [
      "\n",
      "Processing 1.2.826.0.1.3680043.8.498.27994772515980405890858602578674687450...\n"
     ]
    },
    {
     "name": "stderr",
     "output_type": "stream",
     "text": [
      "Converting to nnUNet format:  38%|███▊      | 65/170 [01:29<02:46,  1.59s/it]"
     ]
    },
    {
     "name": "stdout",
     "output_type": "stream",
     "text": [
      "\n",
      "Processing 1.2.826.0.1.3680043.8.498.28722601444191262075880952461419085326...\n"
     ]
    },
    {
     "name": "stderr",
     "output_type": "stream",
     "text": [
      "Converting to nnUNet format:  39%|███▉      | 66/170 [01:31<02:47,  1.61s/it]"
     ]
    },
    {
     "name": "stdout",
     "output_type": "stream",
     "text": [
      "\n",
      "Processing 1.2.826.0.1.3680043.8.498.31897325247898403027455884342546675049...\n"
     ]
    },
    {
     "name": "stderr",
     "output_type": "stream",
     "text": [
      "Converting to nnUNet format:  39%|███▉      | 67/170 [01:33<02:51,  1.66s/it]"
     ]
    },
    {
     "name": "stdout",
     "output_type": "stream",
     "text": [
      "\n",
      "Processing 1.2.826.0.1.3680043.8.498.32250259987224176174516959348681094310...\n"
     ]
    },
    {
     "name": "stderr",
     "output_type": "stream",
     "text": [
      "Converting to nnUNet format:  40%|████      | 68/170 [01:34<02:44,  1.61s/it]"
     ]
    },
    {
     "name": "stdout",
     "output_type": "stream",
     "text": [
      "\n",
      "Processing 1.2.826.0.1.3680043.8.498.34439485184360273751379923196589017042...\n"
     ]
    },
    {
     "name": "stderr",
     "output_type": "stream",
     "text": [
      "Converting to nnUNet format:  41%|████      | 69/170 [01:36<02:35,  1.54s/it]"
     ]
    },
    {
     "name": "stdout",
     "output_type": "stream",
     "text": [
      "\n",
      "Processing 1.2.826.0.1.3680043.8.498.35327124657045713676192746001247576881...\n"
     ]
    },
    {
     "name": "stderr",
     "output_type": "stream",
     "text": [
      "Converting to nnUNet format:  41%|████      | 70/170 [01:37<02:25,  1.46s/it]"
     ]
    },
    {
     "name": "stdout",
     "output_type": "stream",
     "text": [
      "\n",
      "Processing 1.2.826.0.1.3680043.8.498.35378146560080702211693278243609271022...\n"
     ]
    },
    {
     "name": "stderr",
     "output_type": "stream",
     "text": [
      "Converting to nnUNet format:  42%|████▏     | 71/170 [01:38<02:20,  1.41s/it]"
     ]
    },
    {
     "name": "stdout",
     "output_type": "stream",
     "text": [
      "\n",
      "Processing 1.2.826.0.1.3680043.8.498.35633450896661854179640200212683653363...\n"
     ]
    },
    {
     "name": "stderr",
     "output_type": "stream",
     "text": [
      "Converting to nnUNet format:  42%|████▏     | 72/170 [01:40<02:22,  1.45s/it]"
     ]
    },
    {
     "name": "stdout",
     "output_type": "stream",
     "text": [
      "\n",
      "Processing 1.2.826.0.1.3680043.8.498.36205761227502095958293403225062705137...\n"
     ]
    },
    {
     "name": "stderr",
     "output_type": "stream",
     "text": [
      "Converting to nnUNet format:  43%|████▎     | 73/170 [01:41<02:28,  1.53s/it]"
     ]
    },
    {
     "name": "stdout",
     "output_type": "stream",
     "text": [
      "\n",
      "Processing 1.2.826.0.1.3680043.8.498.36516744229109249667702200145077143886...\n",
      "Flipping dimension 2 (HF -> IS)\n"
     ]
    },
    {
     "name": "stderr",
     "output_type": "stream",
     "text": [
      "Converting to nnUNet format:  44%|████▎     | 74/170 [01:43<02:26,  1.53s/it]"
     ]
    },
    {
     "name": "stdout",
     "output_type": "stream",
     "text": [
      "\n",
      "Processing 1.2.826.0.1.3680043.8.498.36563348911961346172279351080943665664...\n"
     ]
    },
    {
     "name": "stderr",
     "output_type": "stream",
     "text": [
      "Converting to nnUNet format:  44%|████▍     | 75/170 [01:44<02:24,  1.53s/it]"
     ]
    },
    {
     "name": "stdout",
     "output_type": "stream",
     "text": [
      "\n",
      "Processing 1.2.826.0.1.3680043.8.498.36928611823925733133253145871406408988...\n"
     ]
    },
    {
     "name": "stderr",
     "output_type": "stream",
     "text": [
      "Converting to nnUNet format:  45%|████▍     | 76/170 [01:46<02:24,  1.54s/it]"
     ]
    },
    {
     "name": "stdout",
     "output_type": "stream",
     "text": [
      "\n",
      "Processing 1.2.826.0.1.3680043.8.498.37086262716517957668471635372810376638...\n"
     ]
    },
    {
     "name": "stderr",
     "output_type": "stream",
     "text": [
      "Converting to nnUNet format:  45%|████▌     | 77/170 [01:48<02:27,  1.58s/it]"
     ]
    },
    {
     "name": "stdout",
     "output_type": "stream",
     "text": [
      "\n",
      "Processing 1.2.826.0.1.3680043.8.498.38245669369430321272819874468980907728...\n"
     ]
    },
    {
     "name": "stderr",
     "output_type": "stream",
     "text": [
      "Converting to nnUNet format:  46%|████▌     | 78/170 [01:49<02:23,  1.56s/it]"
     ]
    },
    {
     "name": "stdout",
     "output_type": "stream",
     "text": [
      "\n",
      "Processing 1.2.826.0.1.3680043.8.498.38904475631578710113273863766282479811...\n"
     ]
    },
    {
     "name": "stderr",
     "output_type": "stream",
     "text": [
      "Converting to nnUNet format:  46%|████▋     | 79/170 [01:51<02:22,  1.57s/it]"
     ]
    },
    {
     "name": "stdout",
     "output_type": "stream",
     "text": [
      "\n",
      "Processing 1.2.826.0.1.3680043.8.498.39640919070091958876744231048011388614...\n"
     ]
    },
    {
     "name": "stderr",
     "output_type": "stream",
     "text": [
      "Converting to nnUNet format:  47%|████▋     | 80/170 [01:52<02:22,  1.59s/it]"
     ]
    },
    {
     "name": "stdout",
     "output_type": "stream",
     "text": [
      "\n",
      "Processing 1.2.826.0.1.3680043.8.498.40402571428459178954472078378902050472...\n"
     ]
    },
    {
     "name": "stderr",
     "output_type": "stream",
     "text": [
      "Converting to nnUNet format:  48%|████▊     | 81/170 [01:54<02:22,  1.60s/it]"
     ]
    },
    {
     "name": "stdout",
     "output_type": "stream",
     "text": [
      "\n",
      "Processing 1.2.826.0.1.3680043.8.498.42092450058597943280470345107435382425...\n"
     ]
    },
    {
     "name": "stderr",
     "output_type": "stream",
     "text": [
      "Converting to nnUNet format:  48%|████▊     | 82/170 [01:55<02:16,  1.55s/it]"
     ]
    },
    {
     "name": "stdout",
     "output_type": "stream",
     "text": [
      "\n",
      "Processing 1.2.826.0.1.3680043.8.498.42672154202952548010999212369080894652...\n"
     ]
    },
    {
     "name": "stderr",
     "output_type": "stream",
     "text": [
      "Converting to nnUNet format:  49%|████▉     | 83/170 [01:57<02:12,  1.53s/it]"
     ]
    },
    {
     "name": "stdout",
     "output_type": "stream",
     "text": [
      "\n",
      "Processing 1.2.826.0.1.3680043.8.498.42933230680553480084056393591634621848...\n"
     ]
    },
    {
     "name": "stderr",
     "output_type": "stream",
     "text": [
      "Converting to nnUNet format:  49%|████▉     | 84/170 [01:59<02:12,  1.54s/it]"
     ]
    },
    {
     "name": "stdout",
     "output_type": "stream",
     "text": [
      "\n",
      "Processing 1.2.826.0.1.3680043.8.498.43495968397556043698567120038117641587...\n",
      "Flipping dimension 2 (HF -> IS)\n"
     ]
    },
    {
     "name": "stderr",
     "output_type": "stream",
     "text": [
      "Converting to nnUNet format:  50%|█████     | 85/170 [02:00<02:08,  1.52s/it]"
     ]
    },
    {
     "name": "stdout",
     "output_type": "stream",
     "text": [
      "\n",
      "Processing 1.2.826.0.1.3680043.8.498.43536331102142701793144520859521601945...\n"
     ]
    },
    {
     "name": "stderr",
     "output_type": "stream",
     "text": [
      "Converting to nnUNet format:  51%|█████     | 86/170 [02:02<02:09,  1.54s/it]"
     ]
    },
    {
     "name": "stdout",
     "output_type": "stream",
     "text": [
      "\n",
      "Processing 1.2.826.0.1.3680043.8.498.43871849529142153251500358014106573699...\n"
     ]
    },
    {
     "name": "stderr",
     "output_type": "stream",
     "text": [
      "Converting to nnUNet format:  51%|█████     | 87/170 [02:03<01:56,  1.40s/it]"
     ]
    },
    {
     "name": "stdout",
     "output_type": "stream",
     "text": [
      "\n",
      "Processing 1.2.826.0.1.3680043.8.498.44549497440423264593272188259201743021...\n"
     ]
    },
    {
     "name": "stderr",
     "output_type": "stream",
     "text": [
      "Converting to nnUNet format:  52%|█████▏    | 88/170 [02:04<01:59,  1.46s/it]"
     ]
    },
    {
     "name": "stdout",
     "output_type": "stream",
     "text": [
      "\n",
      "Processing 1.2.826.0.1.3680043.8.498.44680619990168529577750431324602737586...\n"
     ]
    },
    {
     "name": "stderr",
     "output_type": "stream",
     "text": [
      "Converting to nnUNet format:  52%|█████▏    | 89/170 [02:06<01:57,  1.45s/it]"
     ]
    },
    {
     "name": "stdout",
     "output_type": "stream",
     "text": [
      "\n",
      "Processing 1.2.826.0.1.3680043.8.498.47622062519393262272120105951011625928...\n"
     ]
    },
    {
     "name": "stderr",
     "output_type": "stream",
     "text": [
      "Converting to nnUNet format:  53%|█████▎    | 90/170 [02:07<01:59,  1.49s/it]"
     ]
    },
    {
     "name": "stdout",
     "output_type": "stream",
     "text": [
      "\n",
      "Processing 1.2.826.0.1.3680043.8.498.47802313478131783077762931281303667601...\n"
     ]
    },
    {
     "name": "stderr",
     "output_type": "stream",
     "text": [
      "Converting to nnUNet format:  54%|█████▎    | 91/170 [02:09<02:04,  1.58s/it]"
     ]
    },
    {
     "name": "stdout",
     "output_type": "stream",
     "text": [
      "\n",
      "Processing 1.2.826.0.1.3680043.8.498.47887093599897399482447594752785316358...\n"
     ]
    },
    {
     "name": "stderr",
     "output_type": "stream",
     "text": [
      "Converting to nnUNet format:  54%|█████▍    | 92/170 [02:11<02:03,  1.58s/it]"
     ]
    },
    {
     "name": "stdout",
     "output_type": "stream",
     "text": [
      "\n",
      "Processing 1.2.826.0.1.3680043.8.498.49640345168968922611291772802640560828...\n"
     ]
    },
    {
     "name": "stderr",
     "output_type": "stream",
     "text": [
      "Converting to nnUNet format:  55%|█████▍    | 93/170 [02:12<01:58,  1.54s/it]"
     ]
    },
    {
     "name": "stdout",
     "output_type": "stream",
     "text": [
      "\n",
      "Processing 1.2.826.0.1.3680043.8.498.49718418682238683779854914910561017368...\n"
     ]
    },
    {
     "name": "stderr",
     "output_type": "stream",
     "text": [
      "Converting to nnUNet format:  55%|█████▌    | 94/170 [02:13<01:54,  1.50s/it]"
     ]
    },
    {
     "name": "stdout",
     "output_type": "stream",
     "text": [
      "\n",
      "Processing 1.2.826.0.1.3680043.8.498.50241233088534910114736887318508484246...\n"
     ]
    },
    {
     "name": "stderr",
     "output_type": "stream",
     "text": [
      "Converting to nnUNet format:  56%|█████▌    | 95/170 [02:15<01:47,  1.43s/it]"
     ]
    },
    {
     "name": "stdout",
     "output_type": "stream",
     "text": [
      "\n",
      "Processing 1.2.826.0.1.3680043.8.498.50268462808449401128173812870329002342...\n"
     ]
    },
    {
     "name": "stderr",
     "output_type": "stream",
     "text": [
      "Converting to nnUNet format:  56%|█████▋    | 96/170 [02:16<01:46,  1.44s/it]"
     ]
    },
    {
     "name": "stdout",
     "output_type": "stream",
     "text": [
      "\n",
      "Processing 1.2.826.0.1.3680043.8.498.50275403170194436966991630938339966596...\n"
     ]
    },
    {
     "name": "stderr",
     "output_type": "stream",
     "text": [
      "Converting to nnUNet format:  57%|█████▋    | 97/170 [02:18<01:42,  1.41s/it]"
     ]
    },
    {
     "name": "stdout",
     "output_type": "stream",
     "text": [
      "\n",
      "Processing 1.2.826.0.1.3680043.8.498.52363954882447190271251269039176558430...\n"
     ]
    },
    {
     "name": "stderr",
     "output_type": "stream",
     "text": [
      "Converting to nnUNet format:  58%|█████▊    | 98/170 [02:19<01:37,  1.35s/it]"
     ]
    },
    {
     "name": "stdout",
     "output_type": "stream",
     "text": [
      "\n",
      "Processing 1.2.826.0.1.3680043.8.498.53901203212732811892702239112353256979...\n"
     ]
    },
    {
     "name": "stderr",
     "output_type": "stream",
     "text": [
      "Converting to nnUNet format:  58%|█████▊    | 99/170 [02:20<01:41,  1.44s/it]"
     ]
    },
    {
     "name": "stdout",
     "output_type": "stream",
     "text": [
      "\n",
      "Processing 1.2.826.0.1.3680043.8.498.53947155422591684879953627516013605305...\n"
     ]
    },
    {
     "name": "stderr",
     "output_type": "stream",
     "text": [
      "Converting to nnUNet format:  59%|█████▉    | 100/170 [02:26<03:09,  2.70s/it]"
     ]
    },
    {
     "name": "stdout",
     "output_type": "stream",
     "text": [
      "\n",
      "Processing 1.2.826.0.1.3680043.8.498.55051557363776453883164282380323354147...\n"
     ]
    },
    {
     "name": "stderr",
     "output_type": "stream",
     "text": [
      "Converting to nnUNet format:  59%|█████▉    | 101/170 [02:30<03:32,  3.08s/it]"
     ]
    },
    {
     "name": "stdout",
     "output_type": "stream",
     "text": [
      "\n",
      "Processing 1.2.826.0.1.3680043.8.498.55520651046049733868642268089599441721...\n"
     ]
    },
    {
     "name": "stderr",
     "output_type": "stream",
     "text": [
      "Converting to nnUNet format:  60%|██████    | 102/170 [02:34<03:37,  3.20s/it]"
     ]
    },
    {
     "name": "stdout",
     "output_type": "stream",
     "text": [
      "\n",
      "Processing 1.2.826.0.1.3680043.8.498.56109731607412273442907651635753012241...\n"
     ]
    },
    {
     "name": "stderr",
     "output_type": "stream",
     "text": [
      "Converting to nnUNet format:  61%|██████    | 103/170 [02:41<05:09,  4.62s/it]"
     ]
    },
    {
     "name": "stdout",
     "output_type": "stream",
     "text": [
      "\n",
      "Processing 1.2.826.0.1.3680043.8.498.56479623144539472445940519727300319231...\n"
     ]
    },
    {
     "name": "stderr",
     "output_type": "stream",
     "text": [
      "Converting to nnUNet format:  61%|██████    | 104/170 [02:44<04:26,  4.04s/it]"
     ]
    },
    {
     "name": "stdout",
     "output_type": "stream",
     "text": [
      "\n",
      "Processing 1.2.826.0.1.3680043.8.498.56867346585094457716984380929416039466...\n"
     ]
    },
    {
     "name": "stderr",
     "output_type": "stream",
     "text": [
      "Converting to nnUNet format:  62%|██████▏   | 105/170 [02:58<07:41,  7.10s/it]"
     ]
    },
    {
     "name": "stdout",
     "output_type": "stream",
     "text": [
      "\n",
      "Processing 1.2.826.0.1.3680043.8.498.57538658243054527374593493525349160161...\n",
      "Flipping dimension 2 (HF -> IS)\n"
     ]
    },
    {
     "name": "stderr",
     "output_type": "stream",
     "text": [
      "Converting to nnUNet format:  62%|██████▏   | 106/170 [03:00<05:48,  5.45s/it]"
     ]
    },
    {
     "name": "stdout",
     "output_type": "stream",
     "text": [
      "\n",
      "Processing 1.2.826.0.1.3680043.8.498.58207377463057728877763676083525829095...\n"
     ]
    },
    {
     "name": "stderr",
     "output_type": "stream",
     "text": [
      "Converting to nnUNet format:  63%|██████▎   | 107/170 [03:02<04:33,  4.34s/it]"
     ]
    },
    {
     "name": "stdout",
     "output_type": "stream",
     "text": [
      "\n",
      "Processing 1.2.826.0.1.3680043.8.498.58839417089022860359638460482101293080...\n"
     ]
    },
    {
     "name": "stderr",
     "output_type": "stream",
     "text": [
      "Converting to nnUNet format:  64%|██████▎   | 108/170 [03:04<03:49,  3.70s/it]"
     ]
    },
    {
     "name": "stdout",
     "output_type": "stream",
     "text": [
      "\n",
      "Processing 1.2.826.0.1.3680043.8.498.61152918475243358118286003299125054478...\n"
     ]
    },
    {
     "name": "stderr",
     "output_type": "stream",
     "text": [
      "Converting to nnUNet format:  64%|██████▍   | 109/170 [03:09<04:12,  4.14s/it]"
     ]
    },
    {
     "name": "stdout",
     "output_type": "stream",
     "text": [
      "\n",
      "Processing 1.2.826.0.1.3680043.8.498.62169558538817009391695314359016512306...\n",
      "Flipping dimension 2 (HF -> IS)\n"
     ]
    },
    {
     "name": "stderr",
     "output_type": "stream",
     "text": [
      "Converting to nnUNet format:  65%|██████▍   | 110/170 [03:15<04:42,  4.71s/it]"
     ]
    },
    {
     "name": "stdout",
     "output_type": "stream",
     "text": [
      "\n",
      "Processing 1.2.826.0.1.3680043.8.498.63610643988023140802787347827023957721...\n"
     ]
    },
    {
     "name": "stderr",
     "output_type": "stream",
     "text": [
      "Converting to nnUNet format:  65%|██████▌   | 111/170 [03:19<04:25,  4.50s/it]"
     ]
    },
    {
     "name": "stdout",
     "output_type": "stream",
     "text": [
      "\n",
      "Processing 1.2.826.0.1.3680043.8.498.65011208113835286935212080363533579671...\n"
     ]
    },
    {
     "name": "stderr",
     "output_type": "stream",
     "text": [
      "Converting to nnUNet format:  66%|██████▌   | 112/170 [03:24<04:19,  4.47s/it]"
     ]
    },
    {
     "name": "stdout",
     "output_type": "stream",
     "text": [
      "\n",
      "Processing 1.2.826.0.1.3680043.8.498.65654303333996310125136982540737772052...\n"
     ]
    },
    {
     "name": "stderr",
     "output_type": "stream",
     "text": [
      "Converting to nnUNet format:  66%|██████▋   | 113/170 [03:28<04:22,  4.60s/it]"
     ]
    },
    {
     "name": "stdout",
     "output_type": "stream",
     "text": [
      "\n",
      "Processing 1.2.826.0.1.3680043.8.498.66341469849558089736451534296312923277...\n"
     ]
    },
    {
     "name": "stderr",
     "output_type": "stream",
     "text": [
      "Converting to nnUNet format:  67%|██████▋   | 114/170 [03:38<05:48,  6.22s/it]"
     ]
    },
    {
     "name": "stdout",
     "output_type": "stream",
     "text": [
      "\n",
      "Processing 1.2.826.0.1.3680043.8.498.67256382079119118825371537284628604044...\n"
     ]
    },
    {
     "name": "stderr",
     "output_type": "stream",
     "text": [
      "Converting to nnUNet format:  68%|██████▊   | 115/170 [03:40<04:27,  4.87s/it]"
     ]
    },
    {
     "name": "stdout",
     "output_type": "stream",
     "text": [
      "\n",
      "Processing 1.2.826.0.1.3680043.8.498.67357468192986203292275214887760889253...\n"
     ]
    },
    {
     "name": "stderr",
     "output_type": "stream",
     "text": [
      "Converting to nnUNet format:  68%|██████▊   | 116/170 [03:49<05:20,  5.93s/it]"
     ]
    },
    {
     "name": "stdout",
     "output_type": "stream",
     "text": [
      "\n",
      "Processing 1.2.826.0.1.3680043.8.498.67364033194715249441864636235467322768...\n"
     ]
    },
    {
     "name": "stderr",
     "output_type": "stream",
     "text": [
      "Converting to nnUNet format:  69%|██████▉   | 117/170 [03:50<04:10,  4.73s/it]"
     ]
    },
    {
     "name": "stdout",
     "output_type": "stream",
     "text": [
      "\n",
      "Processing 1.2.826.0.1.3680043.8.498.68161752706586485995657009830735928975...\n"
     ]
    },
    {
     "name": "stderr",
     "output_type": "stream",
     "text": [
      "Converting to nnUNet format:  69%|██████▉   | 118/170 [03:53<03:37,  4.18s/it]"
     ]
    },
    {
     "name": "stdout",
     "output_type": "stream",
     "text": [
      "\n",
      "Processing 1.2.826.0.1.3680043.8.498.68276712082656957005274595949315894066...\n"
     ]
    },
    {
     "name": "stderr",
     "output_type": "stream",
     "text": [
      "Converting to nnUNet format:  70%|███████   | 119/170 [03:58<03:37,  4.26s/it]"
     ]
    },
    {
     "name": "stdout",
     "output_type": "stream",
     "text": [
      "\n",
      "Processing 1.2.826.0.1.3680043.8.498.68356160898101066850726244725552676010...\n"
     ]
    },
    {
     "name": "stderr",
     "output_type": "stream",
     "text": [
      "Converting to nnUNet format:  71%|███████   | 120/170 [04:01<03:13,  3.88s/it]"
     ]
    },
    {
     "name": "stdout",
     "output_type": "stream",
     "text": [
      "\n",
      "Processing 1.2.826.0.1.3680043.8.498.68709340002397343932718258443293606585...\n"
     ]
    },
    {
     "name": "stderr",
     "output_type": "stream",
     "text": [
      "Converting to nnUNet format:  71%|███████   | 121/170 [04:05<03:12,  3.94s/it]"
     ]
    },
    {
     "name": "stdout",
     "output_type": "stream",
     "text": [
      "\n",
      "Processing 1.2.826.0.1.3680043.8.498.69401690945645968072368812538918487252...\n"
     ]
    },
    {
     "name": "stderr",
     "output_type": "stream",
     "text": [
      "Converting to nnUNet format:  72%|███████▏  | 122/170 [04:08<03:01,  3.79s/it]"
     ]
    },
    {
     "name": "stdout",
     "output_type": "stream",
     "text": [
      "\n",
      "Processing 1.2.826.0.1.3680043.8.498.69568746915553014138135720681936366640...\n"
     ]
    },
    {
     "name": "stderr",
     "output_type": "stream",
     "text": [
      "Converting to nnUNet format:  72%|███████▏  | 123/170 [04:15<03:44,  4.78s/it]"
     ]
    },
    {
     "name": "stdout",
     "output_type": "stream",
     "text": [
      "\n",
      "Processing 1.2.826.0.1.3680043.8.498.70243202242722756546202582478829903758...\n"
     ]
    },
    {
     "name": "stderr",
     "output_type": "stream",
     "text": [
      "Converting to nnUNet format:  73%|███████▎  | 124/170 [04:17<02:58,  3.87s/it]"
     ]
    },
    {
     "name": "stdout",
     "output_type": "stream",
     "text": [
      "\n",
      "Processing 1.2.826.0.1.3680043.8.498.71796601538792777580416179841706319140...\n"
     ]
    },
    {
     "name": "stderr",
     "output_type": "stream",
     "text": [
      "Converting to nnUNet format:  74%|███████▎  | 125/170 [04:23<03:15,  4.34s/it]"
     ]
    },
    {
     "name": "stdout",
     "output_type": "stream",
     "text": [
      "\n",
      "Processing 1.2.826.0.1.3680043.8.498.72679260079421518845786364620483278827...\n"
     ]
    },
    {
     "name": "stderr",
     "output_type": "stream",
     "text": [
      "Converting to nnUNet format:  74%|███████▍  | 126/170 [04:27<03:15,  4.45s/it]"
     ]
    },
    {
     "name": "stdout",
     "output_type": "stream",
     "text": [
      "\n",
      "Processing 1.2.826.0.1.3680043.8.498.73820261697830420042473892884688067574...\n"
     ]
    },
    {
     "name": "stderr",
     "output_type": "stream",
     "text": [
      "Converting to nnUNet format:  75%|███████▍  | 127/170 [04:36<04:11,  5.84s/it]"
     ]
    },
    {
     "name": "stdout",
     "output_type": "stream",
     "text": [
      "\n",
      "Processing 1.2.826.0.1.3680043.8.498.75016896260047968433534297207591136672...\n"
     ]
    },
    {
     "name": "stderr",
     "output_type": "stream",
     "text": [
      "Converting to nnUNet format:  75%|███████▌  | 128/170 [04:39<03:28,  4.97s/it]"
     ]
    },
    {
     "name": "stdout",
     "output_type": "stream",
     "text": [
      "\n",
      "Processing 1.2.826.0.1.3680043.8.498.75798029534455454939797323020706657426...\n"
     ]
    },
    {
     "name": "stderr",
     "output_type": "stream",
     "text": [
      "Converting to nnUNet format:  76%|███████▌  | 129/170 [04:43<03:03,  4.47s/it]"
     ]
    },
    {
     "name": "stdout",
     "output_type": "stream",
     "text": [
      "\n",
      "Processing 1.2.826.0.1.3680043.8.498.76127804295106714014266113869285421890...\n"
     ]
    },
    {
     "name": "stderr",
     "output_type": "stream",
     "text": [
      "Converting to nnUNet format:  76%|███████▋  | 130/170 [04:44<02:24,  3.61s/it]"
     ]
    },
    {
     "name": "stdout",
     "output_type": "stream",
     "text": [
      "\n",
      "Processing 1.2.826.0.1.3680043.8.498.77257791208759842602760935296318202703...\n"
     ]
    },
    {
     "name": "stderr",
     "output_type": "stream",
     "text": [
      "Converting to nnUNet format:  77%|███████▋  | 131/170 [04:51<02:56,  4.54s/it]"
     ]
    },
    {
     "name": "stdout",
     "output_type": "stream",
     "text": [
      "\n",
      "Processing 1.2.826.0.1.3680043.8.498.79099213587801933936080747802403048718...\n"
     ]
    },
    {
     "name": "stderr",
     "output_type": "stream",
     "text": [
      "Converting to nnUNet format:  78%|███████▊  | 132/170 [04:53<02:25,  3.82s/it]"
     ]
    },
    {
     "name": "stdout",
     "output_type": "stream",
     "text": [
      "\n",
      "Processing 1.2.826.0.1.3680043.8.498.79221197357738210862579456170058377494...\n",
      "Flipping dimension 2 (HF -> IS)\n"
     ]
    },
    {
     "name": "stderr",
     "output_type": "stream",
     "text": [
      "Converting to nnUNet format:  78%|███████▊  | 133/170 [04:56<02:09,  3.51s/it]"
     ]
    },
    {
     "name": "stdout",
     "output_type": "stream",
     "text": [
      "\n",
      "Processing 1.2.826.0.1.3680043.8.498.79942836660118710928733936389534291771...\n"
     ]
    },
    {
     "name": "stderr",
     "output_type": "stream",
     "text": [
      "Converting to nnUNet format:  79%|███████▉  | 134/170 [05:02<02:31,  4.20s/it]"
     ]
    },
    {
     "name": "stdout",
     "output_type": "stream",
     "text": [
      "\n",
      "Processing 1.2.826.0.1.3680043.8.498.80048101091444895066772572129871971243...\n"
     ]
    },
    {
     "name": "stderr",
     "output_type": "stream",
     "text": [
      "Converting to nnUNet format:  79%|███████▉  | 135/170 [05:04<02:09,  3.70s/it]"
     ]
    },
    {
     "name": "stdout",
     "output_type": "stream",
     "text": [
      "\n",
      "Processing 1.2.826.0.1.3680043.8.498.80114244849666367523293067199486077713...\n"
     ]
    },
    {
     "name": "stderr",
     "output_type": "stream",
     "text": [
      "Converting to nnUNet format:  80%|████████  | 136/170 [05:10<02:23,  4.22s/it]"
     ]
    },
    {
     "name": "stdout",
     "output_type": "stream",
     "text": [
      "\n",
      "Processing 1.2.826.0.1.3680043.8.498.80190289468142266421549927426167714158...\n"
     ]
    },
    {
     "name": "stderr",
     "output_type": "stream",
     "text": [
      "Converting to nnUNet format:  81%|████████  | 137/170 [05:16<02:35,  4.72s/it]"
     ]
    },
    {
     "name": "stdout",
     "output_type": "stream",
     "text": [
      "\n",
      "Processing 1.2.826.0.1.3680043.8.498.80461517820710375402982229582943598734...\n"
     ]
    },
    {
     "name": "stderr",
     "output_type": "stream",
     "text": [
      "Converting to nnUNet format:  81%|████████  | 138/170 [05:20<02:31,  4.72s/it]"
     ]
    },
    {
     "name": "stdout",
     "output_type": "stream",
     "text": [
      "\n",
      "Processing 1.2.826.0.1.3680043.8.498.81098958708250149437576237811675033160...\n"
     ]
    },
    {
     "name": "stderr",
     "output_type": "stream",
     "text": [
      "Converting to nnUNet format:  82%|████████▏ | 139/170 [05:24<02:12,  4.28s/it]"
     ]
    },
    {
     "name": "stdout",
     "output_type": "stream",
     "text": [
      "\n",
      "Processing 1.2.826.0.1.3680043.8.498.82247540847692847800462620079965863384...\n"
     ]
    },
    {
     "name": "stderr",
     "output_type": "stream",
     "text": [
      "Converting to nnUNet format:  82%|████████▏ | 140/170 [05:29<02:16,  4.54s/it]"
     ]
    },
    {
     "name": "stdout",
     "output_type": "stream",
     "text": [
      "\n",
      "Processing 1.2.826.0.1.3680043.8.498.82641698422464356104108563099150990855...\n"
     ]
    },
    {
     "name": "stderr",
     "output_type": "stream",
     "text": [
      "Converting to nnUNet format:  83%|████████▎ | 141/170 [05:44<03:49,  7.90s/it]"
     ]
    },
    {
     "name": "stdout",
     "output_type": "stream",
     "text": [
      "\n",
      "Processing 1.2.826.0.1.3680043.8.498.84908441442551598157537604822760711232...\n",
      "Flipping dimension 2 (HF -> IS)\n"
     ]
    },
    {
     "name": "stderr",
     "output_type": "stream",
     "text": [
      "Converting to nnUNet format:  84%|████████▎ | 142/170 [05:49<03:11,  6.85s/it]"
     ]
    },
    {
     "name": "stdout",
     "output_type": "stream",
     "text": [
      "\n",
      "Processing 1.2.826.0.1.3680043.8.498.84955070686251417902923705821409495324...\n"
     ]
    },
    {
     "name": "stderr",
     "output_type": "stream",
     "text": [
      "Converting to nnUNet format:  84%|████████▍ | 143/170 [05:57<03:15,  7.26s/it]"
     ]
    },
    {
     "name": "stdout",
     "output_type": "stream",
     "text": [
      "\n",
      "Processing 1.2.826.0.1.3680043.8.498.85709849872024108265120796348331660195...\n"
     ]
    },
    {
     "name": "stderr",
     "output_type": "stream",
     "text": [
      "Converting to nnUNet format:  85%|████████▍ | 144/170 [06:01<02:44,  6.32s/it]"
     ]
    },
    {
     "name": "stdout",
     "output_type": "stream",
     "text": [
      "\n",
      "Processing 1.2.826.0.1.3680043.8.498.86037975393556827852769300088670915080...\n"
     ]
    },
    {
     "name": "stderr",
     "output_type": "stream",
     "text": [
      "Converting to nnUNet format:  85%|████████▌ | 145/170 [06:03<02:05,  5.02s/it]"
     ]
    },
    {
     "name": "stdout",
     "output_type": "stream",
     "text": [
      "\n",
      "Processing 1.2.826.0.1.3680043.8.498.86822530556046989269633487715061058236...\n"
     ]
    },
    {
     "name": "stderr",
     "output_type": "stream",
     "text": [
      "Converting to nnUNet format:  86%|████████▌ | 146/170 [06:14<02:40,  6.69s/it]"
     ]
    },
    {
     "name": "stdout",
     "output_type": "stream",
     "text": [
      "\n",
      "Processing 1.2.826.0.1.3680043.8.498.86867376272146805428455638150607288831...\n"
     ]
    },
    {
     "name": "stderr",
     "output_type": "stream",
     "text": [
      "Converting to nnUNet format:  86%|████████▋ | 147/170 [06:15<01:58,  5.17s/it]"
     ]
    },
    {
     "name": "stdout",
     "output_type": "stream",
     "text": [
      "\n",
      "Processing 1.2.826.0.1.3680043.8.498.87794163393266428648659243169230666286...\n"
     ]
    },
    {
     "name": "stderr",
     "output_type": "stream",
     "text": [
      "Converting to nnUNet format:  87%|████████▋ | 148/170 [06:20<01:49,  4.98s/it]"
     ]
    },
    {
     "name": "stdout",
     "output_type": "stream",
     "text": [
      "\n",
      "Processing 1.2.826.0.1.3680043.8.498.88044882887797890422716086408658477347...\n"
     ]
    },
    {
     "name": "stderr",
     "output_type": "stream",
     "text": [
      "Converting to nnUNet format:  88%|████████▊ | 149/170 [06:25<01:46,  5.09s/it]"
     ]
    },
    {
     "name": "stdout",
     "output_type": "stream",
     "text": [
      "\n",
      "Processing 1.2.826.0.1.3680043.8.498.88235513368184878413672448823501323241...\n",
      "Flipping dimension 2 (HF -> IS)\n"
     ]
    },
    {
     "name": "stderr",
     "output_type": "stream",
     "text": [
      "Converting to nnUNet format:  88%|████████▊ | 150/170 [06:27<01:23,  4.16s/it]"
     ]
    },
    {
     "name": "stdout",
     "output_type": "stream",
     "text": [
      "\n",
      "Processing 1.2.826.0.1.3680043.8.498.88512241250207324783783101806489145581...\n"
     ]
    },
    {
     "name": "stderr",
     "output_type": "stream",
     "text": [
      "Converting to nnUNet format:  89%|████████▉ | 151/170 [06:31<01:16,  4.00s/it]"
     ]
    },
    {
     "name": "stdout",
     "output_type": "stream",
     "text": [
      "\n",
      "Processing 1.2.826.0.1.3680043.8.498.88662334466087798807484415780594176763...\n"
     ]
    },
    {
     "name": "stderr",
     "output_type": "stream",
     "text": [
      "Converting to nnUNet format:  89%|████████▉ | 152/170 [06:34<01:06,  3.71s/it]"
     ]
    },
    {
     "name": "stdout",
     "output_type": "stream",
     "text": [
      "\n",
      "Processing 1.2.826.0.1.3680043.8.498.88739296218460643753583291722714541935...\n"
     ]
    },
    {
     "name": "stderr",
     "output_type": "stream",
     "text": [
      "Converting to nnUNet format:  90%|█████████ | 153/170 [06:36<00:55,  3.24s/it]"
     ]
    },
    {
     "name": "stdout",
     "output_type": "stream",
     "text": [
      "\n",
      "Processing 1.2.826.0.1.3680043.8.498.88905360377095450551559885185901908404...\n"
     ]
    },
    {
     "name": "stderr",
     "output_type": "stream",
     "text": [
      "Converting to nnUNet format:  91%|█████████ | 154/170 [06:42<01:04,  4.04s/it]"
     ]
    },
    {
     "name": "stdout",
     "output_type": "stream",
     "text": [
      "\n",
      "Processing 1.2.826.0.1.3680043.8.498.89421386426320866039573378582181968701...\n"
     ]
    },
    {
     "name": "stderr",
     "output_type": "stream",
     "text": [
      "Converting to nnUNet format:  91%|█████████ | 155/170 [06:52<01:27,  5.81s/it]"
     ]
    },
    {
     "name": "stdout",
     "output_type": "stream",
     "text": [
      "\n",
      "Processing 1.2.826.0.1.3680043.8.498.89990837914171555676446644356114244393...\n"
     ]
    },
    {
     "name": "stderr",
     "output_type": "stream",
     "text": [
      "Converting to nnUNet format:  92%|█████████▏| 156/170 [06:54<01:03,  4.57s/it]"
     ]
    },
    {
     "name": "stdout",
     "output_type": "stream",
     "text": [
      "\n",
      "Processing 1.2.826.0.1.3680043.8.498.90015157820692758596783999454928886688...\n"
     ]
    },
    {
     "name": "stderr",
     "output_type": "stream",
     "text": [
      "Converting to nnUNet format:  92%|█████████▏| 157/170 [06:55<00:47,  3.69s/it]"
     ]
    },
    {
     "name": "stdout",
     "output_type": "stream",
     "text": [
      "\n",
      "Processing 1.2.826.0.1.3680043.8.498.90168683694094931217787644438845074017...\n"
     ]
    },
    {
     "name": "stderr",
     "output_type": "stream",
     "text": [
      "Converting to nnUNet format:  93%|█████████▎| 158/170 [06:57<00:37,  3.13s/it]"
     ]
    },
    {
     "name": "stdout",
     "output_type": "stream",
     "text": [
      "\n",
      "Processing 1.2.826.0.1.3680043.8.498.92418959634964175917370213963992652610...\n"
     ]
    },
    {
     "name": "stderr",
     "output_type": "stream",
     "text": [
      "Converting to nnUNet format:  94%|█████████▎| 159/170 [06:59<00:30,  2.75s/it]"
     ]
    },
    {
     "name": "stdout",
     "output_type": "stream",
     "text": [
      "\n",
      "Processing 1.2.826.0.1.3680043.8.498.92498800238576582506105430510381134234...\n"
     ]
    },
    {
     "name": "stderr",
     "output_type": "stream",
     "text": [
      "Converting to nnUNet format:  94%|█████████▍| 160/170 [07:01<00:24,  2.43s/it]"
     ]
    },
    {
     "name": "stdout",
     "output_type": "stream",
     "text": [
      "\n",
      "Processing 1.2.826.0.1.3680043.8.498.92543328866053664733167983708344898988...\n"
     ]
    },
    {
     "name": "stderr",
     "output_type": "stream",
     "text": [
      "Converting to nnUNet format:  95%|█████████▍| 161/170 [07:04<00:23,  2.66s/it]"
     ]
    },
    {
     "name": "stdout",
     "output_type": "stream",
     "text": [
      "\n",
      "Processing 1.2.826.0.1.3680043.8.498.92773748942952645243074808740855383414...\n"
     ]
    },
    {
     "name": "stderr",
     "output_type": "stream",
     "text": [
      "Converting to nnUNet format:  95%|█████████▌| 162/170 [07:15<00:42,  5.27s/it]"
     ]
    },
    {
     "name": "stdout",
     "output_type": "stream",
     "text": [
      "\n",
      "Processing 1.2.826.0.1.3680043.8.498.93009153822317083064844213344156801735...\n"
     ]
    },
    {
     "name": "stderr",
     "output_type": "stream",
     "text": [
      "Converting to nnUNet format:  96%|█████████▌| 163/170 [07:32<01:02,  8.86s/it]"
     ]
    },
    {
     "name": "stdout",
     "output_type": "stream",
     "text": [
      "\n",
      "Processing 1.2.826.0.1.3680043.8.498.96218477847514569819859044953648183121...\n"
     ]
    },
    {
     "name": "stderr",
     "output_type": "stream",
     "text": [
      "Converting to nnUNet format:  96%|█████████▋| 164/170 [07:37<00:46,  7.71s/it]"
     ]
    },
    {
     "name": "stdout",
     "output_type": "stream",
     "text": [
      "\n",
      "Processing 1.2.826.0.1.3680043.8.498.97057911327885502714270510313728134927...\n"
     ]
    },
    {
     "name": "stderr",
     "output_type": "stream",
     "text": [
      "Converting to nnUNet format:  97%|█████████▋| 165/170 [07:39<00:30,  6.01s/it]"
     ]
    },
    {
     "name": "stdout",
     "output_type": "stream",
     "text": [
      "\n",
      "Processing 1.2.826.0.1.3680043.8.498.97793793786310123662739243467808545580...\n",
      "Flipping dimension 2 (HF -> IS)\n"
     ]
    },
    {
     "name": "stderr",
     "output_type": "stream",
     "text": [
      "Converting to nnUNet format:  98%|█████████▊| 166/170 [07:41<00:18,  4.68s/it]"
     ]
    },
    {
     "name": "stdout",
     "output_type": "stream",
     "text": [
      "\n",
      "Processing 1.2.826.0.1.3680043.8.498.97954169904067078117466623410031007260...\n"
     ]
    },
    {
     "name": "stderr",
     "output_type": "stream",
     "text": [
      "Converting to nnUNet format:  98%|█████████▊| 167/170 [07:45<00:13,  4.50s/it]"
     ]
    },
    {
     "name": "stdout",
     "output_type": "stream",
     "text": [
      "\n",
      "Processing 1.2.826.0.1.3680043.8.498.98123758735027035609698227781754927939...\n",
      "Flipping dimension 2 (HF -> IS)\n"
     ]
    },
    {
     "name": "stderr",
     "output_type": "stream",
     "text": [
      "Converting to nnUNet format:  99%|█████████▉| 168/170 [07:47<00:07,  3.78s/it]"
     ]
    },
    {
     "name": "stdout",
     "output_type": "stream",
     "text": [
      "\n",
      "Processing 1.2.826.0.1.3680043.8.498.98133633346919790888527055899070500258...\n"
     ]
    },
    {
     "name": "stderr",
     "output_type": "stream",
     "text": [
      "Converting to nnUNet format:  99%|█████████▉| 169/170 [07:52<00:04,  4.01s/it]"
     ]
    },
    {
     "name": "stdout",
     "output_type": "stream",
     "text": [
      "\n",
      "Processing 1.2.826.0.1.3680043.8.498.98665804676684243068057801371997368733...\n"
     ]
    },
    {
     "name": "stderr",
     "output_type": "stream",
     "text": [
      "Converting to nnUNet format: 100%|██████████| 170/170 [07:58<00:00,  2.81s/it]"
     ]
    },
    {
     "name": "stdout",
     "output_type": "stream",
     "text": [
      "\n",
      "================================================================================\n",
      "CONVERSION SUMMARY\n",
      "================================================================================\n",
      "Successfully converted: 170\n",
      "Skipped: 0\n",
      "Total processed: 170\n",
      "\n",
      "================================================================================\n",
      "ORIGINAL ORIENTATION DISTRIBUTION:\n",
      "================================================================================\n",
      "  FH-AP-RL: 160 cases\n",
      "  AP-HF-RL: 6 cases\n",
      "  RL-HF-AP: 4 cases\n",
      "================================================================================\n",
      "\n",
      "All data reoriented to: LPS (RAS+)\n",
      "  Dim 0: Right → Left\n",
      "  Dim 1: Anterior → Posterior\n",
      "  Dim 2: Inferior → Superior\n",
      "\n",
      "Output directories:\n",
      "  Images: Dataset501_IAD\\imagesTr\n",
      "  Labels: Dataset501_IAD\\labelsTr\n",
      "================================================================================\n"
     ]
    },
    {
     "name": "stderr",
     "output_type": "stream",
     "text": [
      "\n"
     ]
    }
   ],
   "source": [
    "import os\n",
    "import glob\n",
    "import numpy as np\n",
    "import nibabel as nib\n",
    "import pydicom\n",
    "from pathlib import Path\n",
    "from tqdm import tqdm\n",
    "\n",
    "def get_direction_label(vec):\n",
    "    \"\"\"Convert orientation vector to direction label\"\"\"\n",
    "    abs_vec = np.abs(vec)\n",
    "    dominant_idx = np.argmax(abs_vec)\n",
    "    dominant_val = vec[dominant_idx]\n",
    "    \n",
    "    if dominant_idx == 0:\n",
    "        return 'RL' if dominant_val > 0 else 'LR'\n",
    "    elif dominant_idx == 1:\n",
    "        return 'AP' if dominant_val > 0 else 'PA'\n",
    "    else:\n",
    "        return 'FH' if dominant_val > 0 else 'HF'\n",
    "\n",
    "def determine_dicom_orientation(iop):\n",
    "    \"\"\"Determine row and column directions from ImageOrientationPatient\"\"\"\n",
    "    row_vec = np.array(iop[:3])\n",
    "    col_vec = np.array(iop[3:6])\n",
    "    \n",
    "    dim2_dir = get_direction_label(row_vec)\n",
    "    dim1_dir = get_direction_label(col_vec)\n",
    "    \n",
    "    dim2_axis = 0 if dim2_dir in ['LR', 'RL'] else (1 if dim2_dir in ['AP', 'PA'] else 2)\n",
    "    dim1_axis = 0 if dim1_dir in ['LR', 'RL'] else (1 if dim1_dir in ['AP', 'PA'] else 2)\n",
    "    \n",
    "    used_axes = {dim2_axis, dim1_axis}\n",
    "    dim0_axis = (set([0, 1, 2]) - used_axes).pop()\n",
    "    dim0_dir = ['RL', 'AP', 'FH'][dim0_axis]\n",
    "    \n",
    "    return [dim0_dir, dim1_dir, dim2_dir]\n",
    "\n",
    "def get_orientation_from_dicom(series_path):\n",
    "    \"\"\"Get orientation from DICOM\"\"\"\n",
    "    dcm_files = glob.glob(os.path.join(series_path, '*.dcm'))\n",
    "    \n",
    "    if len(dcm_files) == 0:\n",
    "        return None, \"No DICOM files found\"\n",
    "    \n",
    "    if len(dcm_files) == 1:\n",
    "        return None, \"Multi-frame DICOM (skipped)\"\n",
    "    \n",
    "    slices = [pydicom.dcmread(f) for f in dcm_files]\n",
    "    orientation = determine_dicom_orientation(slices[0].ImageOrientationPatient)\n",
    "    \n",
    "    return orientation, None\n",
    "\n",
    "def create_affine_from_orientation(orientation):\n",
    "    \"\"\"\n",
    "    Create affine matrix from orientation codes\n",
    "    \n",
    "    Args:\n",
    "        orientation: List like ['FH', 'AP', 'LR'] representing [dim0, dim1, dim2]\n",
    "    \n",
    "    Returns:\n",
    "        4x4 affine matrix\n",
    "    \"\"\"\n",
    "    # Get orientation string (last letter of each direction)\n",
    "    orient_str = ''.join([d[-1] for d in orientation])\n",
    "    \n",
    "    # Map direction codes to axis and sign\n",
    "    # L/R = x-axis, P/A = y-axis, H/F = z-axis\n",
    "    axis_map = {'L': 0, 'R': 0, 'P': 1, 'A': 1, 'H': 2, 'F': 2}\n",
    "    sign_map = {'L': -1, 'R': 1, 'P': -1, 'A': 1, 'H': -1, 'F': 1}\n",
    "    \n",
    "    affine = np.zeros((4, 4))\n",
    "    \n",
    "    # Fill in the rotation part (unit spacing)\n",
    "    for i, orient_code in enumerate(orient_str):\n",
    "        axis = axis_map[orient_code]\n",
    "        sign = sign_map[orient_code]\n",
    "        affine[axis, i] = sign * 1.0  # unit spacing\n",
    "    \n",
    "    # Set the homogeneous coordinate\n",
    "    affine[3, 3] = 1.0\n",
    "    print(affine)\n",
    "    assert False\n",
    "    \n",
    "    return affine\n",
    "\n",
    "def reorient_to_lps(volume, mask, original_orientation):\n",
    "    \"\"\"\n",
    "    Reorient volume and mask from original orientation to LPS (RAS+ in NiBabel)\n",
    "    \n",
    "    LPS means:\n",
    "    - dim0: Right to Left (x-axis)\n",
    "    - dim1: Anterior to Posterior (y-axis)\n",
    "    - dim2: Inferior to Superior (z-axis) or Foot to Head\n",
    "    \n",
    "    Args:\n",
    "        volume: numpy array of shape (d0, d1, d2)\n",
    "        mask: numpy array of shape (d0, d1, d2)\n",
    "        original_orientation: List like ['FH', 'AP', 'LR']\n",
    "    \n",
    "    Returns:\n",
    "        reoriented_volume, reoriented_mask, transformation_info\n",
    "    \"\"\"\n",
    "    target_orientation1 = ['RL', 'AP', 'IS']  # LPS / RAS+\n",
    "    target_orientation2 = ['RL', 'AP', 'FH']  # LPS / RAS+\n",
    "    \n",
    "    # Map orientation codes to axis indices\n",
    "    axis_map = {\n",
    "        'LR': 0, 'RL': 0,  # x-axis\n",
    "        'AP': 1, 'PA': 1,  # y-axis\n",
    "        'FH': 2, 'HF': 2, 'IS': 2, 'SI': 2  # z-axis\n",
    "    }\n",
    "    \n",
    "    # Determine axis permutation\n",
    "    # For each target dimension, find which original dimension corresponds to it\n",
    "    perm = []\n",
    "    for target_code in target_orientation1:\n",
    "        target_axis = axis_map[target_code]\n",
    "        # Find which original dimension has the same anatomical axis\n",
    "        for i, orig_code in enumerate(original_orientation):\n",
    "            if axis_map[orig_code] == target_axis:\n",
    "                perm.append(i)\n",
    "                break\n",
    "    \n",
    "    # Transpose to correct axis order\n",
    "    volume_reoriented = np.transpose(volume, perm)\n",
    "    mask_reoriented = np.transpose(mask, perm)\n",
    "    \n",
    "    # Determine flipping for each dimension\n",
    "    flips = []\n",
    "    for i, target_code in enumerate(target_orientation1):\n",
    "        orig_idx = perm[i]\n",
    "        orig_code = original_orientation[orig_idx]\n",
    "        \n",
    "        # Check if we need to flip this dimension\n",
    "        # We need to flip if the direction is opposite\n",
    "        # print(orig_code, target_code)\n",
    "        need_flip = (orig_code != target_orientation1[i]) and (orig_code != target_orientation2[i])\n",
    "        flips.append(need_flip)\n",
    "        \n",
    "        if need_flip:\n",
    "            print(f\"Flipping dimension {i} ({orig_code} -> {target_code})\")\n",
    "            volume_reoriented = np.flip(volume_reoriented, axis=i)\n",
    "            mask_reoriented = np.flip(mask_reoriented, axis=i)\n",
    "    \n",
    "    # Make contiguous arrays\n",
    "    volume_reoriented = np.ascontiguousarray(volume_reoriented)\n",
    "    mask_reoriented = np.ascontiguousarray(mask_reoriented)\n",
    "    \n",
    "    transform_info = {\n",
    "        'original_orientation': original_orientation,\n",
    "        'target_orientation': target_orientation1,\n",
    "        'permutation': perm,\n",
    "        'flips': flips\n",
    "    }\n",
    "    \n",
    "    return volume_reoriented, mask_reoriented, transform_info\n",
    "\n",
    "def convert_to_nnunet_format(volume_dir, mask_dir, series_base_path, output_base_dir):\n",
    "    \"\"\"\n",
    "    Convert .npy volumes and masks to nnUNet format with .nii.gz files\n",
    "    All data will be reoriented to LPS (RAS+) orientation\n",
    "    \n",
    "    Args:\n",
    "        volume_dir: Directory containing volume .npy files\n",
    "        mask_dir: Directory containing mask .npy files\n",
    "        series_base_path: Path to original DICOM series folders\n",
    "        output_base_dir: Base output directory (e.g., E:/Topcow/Dataset501_IAD)\n",
    "    \"\"\"\n",
    "    \n",
    "    # Create output directories\n",
    "    images_dir = Path(output_base_dir) / \"imagesTr\"\n",
    "    labels_dir = Path(output_base_dir) / \"labelsTr\"\n",
    "    \n",
    "    os.makedirs(images_dir, exist_ok=True)\n",
    "    os.makedirs(labels_dir, exist_ok=True)\n",
    "    \n",
    "    # Get all mask files\n",
    "    mask_files = sorted(list(Path(mask_dir).glob('*.npy')))\n",
    "    \n",
    "    print(f\"Found {len(mask_files)} mask files to process\\n\")\n",
    "    print(f\"Target orientation: LPS (RAS+)\")\n",
    "    print(f\"  Dim 0: Right → Left\")\n",
    "    print(f\"  Dim 1: Anterior → Posterior\")\n",
    "    print(f\"  Dim 2: Inferior → Superior (Foot → Head)\\n\")\n",
    "    \n",
    "    successful = 0\n",
    "    skipped = 0\n",
    "    case_index = 1\n",
    "    orientation_counts = {}\n",
    "    \n",
    "    for mask_file in tqdm(mask_files, desc=\"Converting to nnUNet format\"):\n",
    "        series_uid = mask_file.stem\n",
    "        print(f\"\\nProcessing {series_uid}...\")\n",
    "        volume_file = Path(volume_dir) / f\"{series_uid}.npy\"\n",
    "        series_path = os.path.join(series_base_path, series_uid)\n",
    "        \n",
    "        # Check if corresponding volume exists\n",
    "        if not volume_file.exists():\n",
    "            print(f\"\\nSkipped {series_uid}: Volume file not found\")\n",
    "            skipped += 1\n",
    "            continue\n",
    "        \n",
    "        # Check if DICOM series exists\n",
    "        if not os.path.exists(series_path):\n",
    "            print(f\"\\nSkipped {series_uid}: DICOM series folder not found\")\n",
    "            skipped += 1\n",
    "            continue\n",
    "        \n",
    "        try:\n",
    "            # Load volume and mask\n",
    "            volume = np.load(volume_file).astype(np.float32) / 255.0  # Normalize to [0, 1]\n",
    "            mask = np.load(mask_file)\n",
    "            \n",
    "            # Check shapes match\n",
    "            if volume.shape != mask.shape:\n",
    "                print(f\"\\nSkipped {series_uid}: Shape mismatch - Volume {volume.shape} vs Mask {mask.shape}\")\n",
    "                skipped += 1\n",
    "                continue\n",
    "            \n",
    "            # Skip if no mask present (optional)\n",
    "            if np.sum(mask) == 0:\n",
    "                print(f\"\\nSkipped {series_uid}: No mask present\")\n",
    "                skipped += 1\n",
    "                continue\n",
    "            \n",
    "            # Get orientation from DICOM\n",
    "            orientation, error = get_orientation_from_dicom(series_path)\n",
    "            if error:\n",
    "                print(f\"\\nSkipped {series_uid}: {error}\")\n",
    "                skipped += 1\n",
    "                continue\n",
    "            \n",
    "            # Track orientation statistics\n",
    "            orient_key = '-'.join(orientation)\n",
    "            orientation_counts[orient_key] = orientation_counts.get(orient_key, 0) + 1\n",
    "            \n",
    "            # Reorient to LPS\n",
    "            volume_lps, mask_lps, transform_info = reorient_to_lps(volume, mask, orientation)\n",
    "            \n",
    "            # Create LPS affine matrix (identity with proper spacing)\n",
    "            affine_lps = np.array([\n",
    "                [1.0, 0.0, 0.0, 0.0],\n",
    "                [0.0, 1.0, 0.0, 0.0],\n",
    "                [0.0, 0.0, 1.0, 0.0],\n",
    "                [0.0, 0.0, 0.0, 1.0]\n",
    "            ])\n",
    "            \n",
    "            # Ensure correct data types\n",
    "            volume_data = volume_lps.astype(np.float32)\n",
    "            mask_data = mask_lps.astype(np.uint8)\n",
    "            \n",
    "            # Create NIfTI images with LPS orientation\n",
    "            volume_nifti = nib.Nifti1Image(volume_data, affine_lps)\n",
    "            mask_nifti = nib.Nifti1Image(mask_data, affine_lps)\n",
    "            \n",
    "            # Set data type in header explicitly\n",
    "            volume_nifti.header.set_data_dtype(np.float32)\n",
    "            mask_nifti.header.set_data_dtype(np.uint8)\n",
    "            \n",
    "            # Save files\n",
    "            volume_filename = f\"CASE_{case_index:04d}_0000.nii.gz\"\n",
    "            volume_path = images_dir / volume_filename\n",
    "            nib.save(volume_nifti, volume_path)\n",
    "            \n",
    "            mask_filename = f\"CASE_{case_index:04d}.nii.gz\"\n",
    "            mask_path = labels_dir / mask_filename\n",
    "            nib.save(mask_nifti, mask_path)\n",
    "            \n",
    "            successful += 1\n",
    "            case_index += 1\n",
    "            \n",
    "        except Exception as e:\n",
    "            print(f\"\\nError processing {series_uid}: {e}\")\n",
    "            import traceback\n",
    "            traceback.print_exc()\n",
    "            skipped += 1\n",
    "            continue\n",
    "    \n",
    "    # Summary\n",
    "    print(f\"\\n{'='*80}\")\n",
    "    print(\"CONVERSION SUMMARY\")\n",
    "    print(f\"{'='*80}\")\n",
    "    print(f\"Successfully converted: {successful}\")\n",
    "    print(f\"Skipped: {skipped}\")\n",
    "    print(f\"Total processed: {len(mask_files)}\")\n",
    "    print(f\"\\n{'='*80}\")\n",
    "    print(\"ORIGINAL ORIENTATION DISTRIBUTION:\")\n",
    "    print(f\"{'='*80}\")\n",
    "    for orient, count in sorted(orientation_counts.items(), key=lambda x: -x[1]):\n",
    "        print(f\"  {orient}: {count} cases\")\n",
    "    print(f\"{'='*80}\")\n",
    "    print(f\"\\nAll data reoriented to: LPS (RAS+)\")\n",
    "    print(f\"  Dim 0: Right → Left\")\n",
    "    print(f\"  Dim 1: Anterior → Posterior\")\n",
    "    print(f\"  Dim 2: Inferior → Superior\\n\")\n",
    "    print(f\"Output directories:\")\n",
    "    print(f\"  Images: {images_dir}\")\n",
    "    print(f\"  Labels: {labels_dir}\")\n",
    "    print(f\"{'='*80}\")\n",
    "    \n",
    "    return successful, skipped\n",
    "\n",
    "\n",
    "if __name__ == \"__main__\":\n",
    "    volume_dir = r\"./volume_uint8_256\"\n",
    "    mask_dir = r\"./mask_256\"\n",
    "    series_base_path = r\"E:\\data_old\\series\"\n",
    "    output_base_dir = r\"./Dataset501_IAD\"\n",
    "    \n",
    "    # Run conversion\n",
    "    convert_to_nnunet_format(volume_dir, mask_dir, series_base_path, output_base_dir)"
   ]
  },
  {
   "cell_type": "code",
   "execution_count": null,
   "id": "44459bd5",
   "metadata": {},
   "outputs": [],
   "source": []
  }
 ],
 "metadata": {
  "kernelspec": {
   "display_name": "yyuan57",
   "language": "python",
   "name": "python3"
  },
  "language_info": {
   "codemirror_mode": {
    "name": "ipython",
    "version": 3
   },
   "file_extension": ".py",
   "mimetype": "text/x-python",
   "name": "python",
   "nbconvert_exporter": "python",
   "pygments_lexer": "ipython3",
   "version": "3.7.3"
  }
 },
 "nbformat": 4,
 "nbformat_minor": 5
}
