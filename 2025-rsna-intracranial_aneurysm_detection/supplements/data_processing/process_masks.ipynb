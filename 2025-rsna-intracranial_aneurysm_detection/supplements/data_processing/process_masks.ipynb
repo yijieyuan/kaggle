{
 "cells": [
  {
   "cell_type": "code",
   "execution_count": 5,
   "id": "f062ca2c",
   "metadata": {},
   "outputs": [
    {
     "name": "stdout",
     "output_type": "stream",
     "text": [
      "Found 178 mask files to process\n",
      "\n"
     ]
    },
    {
     "name": "stderr",
     "output_type": "stream",
     "text": [
      "Processing masks:  33%|███▎      | 58/178 [02:19<07:57,  3.98s/it]"
     ]
    },
    {
     "name": "stdout",
     "output_type": "stream",
     "text": [
      "\n",
      "Warning: Non-zero values found in cropped region for 1.2.826.0.1.3680043.8.498.21260453249991608190728327379762807665\n"
     ]
    },
    {
     "name": "stderr",
     "output_type": "stream",
     "text": [
      "Processing masks:  33%|███▎      | 59/178 [02:30<12:06,  6.10s/it]"
     ]
    },
    {
     "name": "stdout",
     "output_type": "stream",
     "text": [
      "  Minimum index of non-zero value in cropped region: 101, depth from end: 775, total depth: 876\n"
     ]
    },
    {
     "name": "stderr",
     "output_type": "stream",
     "text": [
      "Processing masks:  49%|████▉     | 87/178 [03:34<04:30,  2.97s/it]"
     ]
    },
    {
     "name": "stdout",
     "output_type": "stream",
     "text": [
      "\n",
      "Skipped 1.2.826.0.1.3680043.8.498.43502795339700498960289295234851562632: Series folder not found\n"
     ]
    },
    {
     "name": "stderr",
     "output_type": "stream",
     "text": [
      "Processing masks:  82%|████████▏ | 146/178 [06:15<01:22,  2.58s/it]c:\\Users\\yyuan57\\Anaconda3\\envs\\yyuan57\\lib\\site-packages\\pydicom\\pixel_data_handlers\\util.py:1146: UserWarning: A value of None for (0028,0008) 'Number of Frames' is non-conformant. It's recommended that this value be changed to 1\n",
      "  warnings.warn(\"A value of None for (0028,0008) 'Number of Frames' is \"\n",
      "Processing masks:  95%|█████████▍| 169/178 [07:17<00:29,  3.28s/it]"
     ]
    },
    {
     "name": "stdout",
     "output_type": "stream",
     "text": [
      "\n",
      "Warning: Non-zero values found in cropped region for 1.2.826.0.1.3680043.8.498.93009153822317083064844213344156801735\n"
     ]
    },
    {
     "name": "stderr",
     "output_type": "stream",
     "text": [
      "Processing masks:  96%|█████████▌| 170/178 [07:29<00:46,  5.81s/it]"
     ]
    },
    {
     "name": "stdout",
     "output_type": "stream",
     "text": [
      "  Minimum index of non-zero value in cropped region: 19, depth from end: 970, total depth: 989\n"
     ]
    },
    {
     "name": "stderr",
     "output_type": "stream",
     "text": [
      "Processing masks: 100%|██████████| 178/178 [07:40<00:00,  2.59s/it]"
     ]
    },
    {
     "name": "stdout",
     "output_type": "stream",
     "text": [
      "\n",
      "================================================================================\n",
      "PROCESSING SUMMARY\n",
      "================================================================================\n",
      "Successfully processed: 170\n",
      "Skipped (excluded/not found/errors): 8\n",
      "Errors: 0\n",
      "Total: 178\n",
      "================================================================================\n"
     ]
    },
    {
     "name": "stderr",
     "output_type": "stream",
     "text": [
      "\n"
     ]
    }
   ],
   "source": [
    "import os\n",
    "import glob\n",
    "import numpy as np\n",
    "import pydicom\n",
    "import nibabel as nib\n",
    "from pathlib import Path\n",
    "from scipy.ndimage import zoom\n",
    "from tqdm import tqdm\n",
    "\n",
    "def get_direction_label(vec):\n",
    "    \"\"\"Convert orientation vector to direction label\"\"\"\n",
    "    abs_vec = np.abs(vec)\n",
    "    dominant_idx = np.argmax(abs_vec)\n",
    "    dominant_val = vec[dominant_idx]\n",
    "    \n",
    "    if dominant_idx == 0:\n",
    "        return 'RL' if dominant_val > 0 else 'LR'\n",
    "    elif dominant_idx == 1:\n",
    "        return 'AP' if dominant_val > 0 else 'PA'\n",
    "    else:\n",
    "        return 'FH' if dominant_val > 0 else 'HF'\n",
    "\n",
    "def determine_dicom_orientation(iop):\n",
    "    \"\"\"Determine row and column directions from ImageOrientationPatient\"\"\"\n",
    "    row_vec = np.array(iop[:3])\n",
    "    col_vec = np.array(iop[3:6])\n",
    "    \n",
    "    dim2_dir = get_direction_label(row_vec)\n",
    "    dim1_dir = get_direction_label(col_vec)\n",
    "    \n",
    "    dim2_axis = 0 if dim2_dir in ['LR', 'RL'] else (1 if dim2_dir in ['AP', 'PA'] else 2)\n",
    "    dim1_axis = 0 if dim1_dir in ['LR', 'RL'] else (1 if dim1_dir in ['AP', 'PA'] else 2)\n",
    "    \n",
    "    used_axes = {dim2_axis, dim1_axis}\n",
    "    dim0_axis = (set([0, 1, 2]) - used_axes).pop()\n",
    "    dim0_dir = ['RL', 'AP', 'FH'][dim0_axis]\n",
    "    \n",
    "    return [dim0_dir, dim1_dir, dim2_dir]\n",
    "\n",
    "def load_dicom_volume(series_path):\n",
    "    \"\"\"Load DICOM series and return volume with orientation info\"\"\"\n",
    "    dcm_files = glob.glob(os.path.join(series_path, '*.dcm'))\n",
    "    \n",
    "    if len(dcm_files) == 0:\n",
    "        return None, None, \"No DICOM files found\"\n",
    "    \n",
    "    if len(dcm_files) == 1:\n",
    "        return None, None, \"Multi-frame DICOM (skipped)\"\n",
    "    \n",
    "    slices = [pydicom.dcmread(f) for f in dcm_files]\n",
    "    slices.sort(key=lambda x: float(x.ImagePositionPatient[2]))\n",
    "    \n",
    "    volume = np.stack([s.pixel_array for s in slices], axis=0)\n",
    "    orientation = determine_dicom_orientation(slices[0].ImageOrientationPatient)\n",
    "    \n",
    "    return volume, orientation, None\n",
    "\n",
    "def determine_nifti_orientation(affine):\n",
    "    \"\"\"Determine orientation from NIfTI affine matrix\"\"\"\n",
    "    ornt = nib.orientations.io_orientation(affine)\n",
    "    axis_codes = nib.orientations.ornt2axcodes(ornt)\n",
    "    \n",
    "    direction_map = {\n",
    "        'L': 'RL', 'R': 'LR', 'P': 'AP', \n",
    "        'A': 'PA', 'I': 'HF', 'S': 'FH'\n",
    "    }\n",
    "    \n",
    "    return [direction_map[code] for code in axis_codes]\n",
    "\n",
    "def align_volume_to_target(volume, source_orient, target_orient):\n",
    "    \"\"\"Align source volume to match target orientation\"\"\"\n",
    "    dir_to_axis = {\n",
    "        'LR': 0, 'RL': 0, 'PA': 1, \n",
    "        'AP': 1, 'HF': 2, 'FH': 2\n",
    "    }\n",
    "    \n",
    "    transpose_order = []\n",
    "    for target_dir in target_orient:\n",
    "        target_axis = dir_to_axis[target_dir]\n",
    "        for i, source_dir in enumerate(source_orient):\n",
    "            if dir_to_axis[source_dir] == target_axis:\n",
    "                transpose_order.append(i)\n",
    "                break\n",
    "    \n",
    "    aligned = np.transpose(volume, transpose_order)\n",
    "    \n",
    "    for i, (target_dir, source_idx) in enumerate(zip(target_orient, transpose_order)):\n",
    "        if target_dir != source_orient[source_idx]:\n",
    "            aligned = np.flip(aligned, axis=i)\n",
    "    \n",
    "    return aligned\n",
    "\n",
    "def resize_mask(mask, target_shape, order=0):\n",
    "    \"\"\"Resize mask using nearest neighbor interpolation\"\"\"\n",
    "    zoom_factors = np.array(target_shape) / np.array(mask.shape)\n",
    "    return zoom(mask, zoom_factors, order=order).astype(np.uint8)\n",
    "\n",
    "def process_all_masks(seg_base_path, series_base_path, output_path):\n",
    "    \"\"\"Process all mask files and align with DICOM data\"\"\"\n",
    "    \n",
    "    # Create output directory\n",
    "    os.makedirs(output_path, exist_ok=True)\n",
    "    \n",
    "    # Series to exclude due to dimension mismatches\n",
    "    EXCLUDED_SERIES = {\n",
    "        \"1.2.826.0.1.3680043.8.498.12271269630687930751200307891697907423\",\n",
    "        \"1.2.826.0.1.3680043.8.498.14375161350968928494386548917647435597\",\n",
    "        \"1.2.826.0.1.3680043.8.498.50369188120242587742908379292729868174\",\n",
    "        \"1.2.826.0.1.3680043.8.498.54865110953409154322874363435644372368\",\n",
    "        \"1.2.826.0.1.3680043.8.498.68654901185438820364160878605611510817\",\n",
    "        \"1.2.826.0.1.3680043.8.498.75294325392457179365040684378207706807\",\n",
    "        \"1.2.826.0.1.3680043.8.498.97256479550884529885940791074752719030\",\n",
    "    }\n",
    "    \n",
    "    # Find all mask files (*_cowseg.nii)\n",
    "    mask_files = glob.glob(os.path.join(seg_base_path, '*_cowseg.nii'))\n",
    "    \n",
    "    print(f\"Found {len(mask_files)} mask files to process\\n\")\n",
    "    \n",
    "    successful = 0\n",
    "    skipped = 0\n",
    "    errors = 0\n",
    "    \n",
    "    for mask_path in tqdm(mask_files, desc=\"Processing masks\"):\n",
    "        # Extract series UID from mask filename\n",
    "        mask_filename = Path(mask_path).stem\n",
    "        series_uid = mask_filename.replace('_cowseg', '')\n",
    "        \n",
    "        # Skip excluded series\n",
    "        if series_uid in EXCLUDED_SERIES:\n",
    "            skipped += 1\n",
    "            continue\n",
    "        \n",
    "        series_path = os.path.join(series_base_path, series_uid)\n",
    "        \n",
    "        # Check if series folder exists\n",
    "        if not os.path.exists(series_path):\n",
    "            print(f\"\\nSkipped {series_uid}: Series folder not found\")\n",
    "            skipped += 1\n",
    "            continue\n",
    "        \n",
    "        try:\n",
    "            # Load DICOM\n",
    "            dcm_vol, dcm_orient, error = load_dicom_volume(series_path)\n",
    "            if error:\n",
    "                print(f\"\\nSkipped {series_uid}: {error}\")\n",
    "                skipped += 1\n",
    "                continue\n",
    "            \n",
    "            # Load mask\n",
    "            mask_img = nib.load(mask_path)\n",
    "            mask_vol = mask_img.get_fdata()\n",
    "            mask_orient = determine_nifti_orientation(mask_img.affine)\n",
    "            \n",
    "            # Align mask to DICOM orientation\n",
    "            aligned_mask = align_volume_to_target(mask_vol, mask_orient, dcm_orient)\n",
    "\n",
    "            if series_uid == \"1.2.826.0.1.3680043.8.498.23047023542526806696555440426928375679\":\n",
    "                aligned_mask[102] = 0  # Fix known issue\n",
    "            if series_uid == \"1.2.826.0.1.3680043.8.498.11938739392606296532297884225608408867\":\n",
    "                aligned_mask[0] = 0\n",
    "\n",
    "            # Check dimension match\n",
    "            if dcm_vol.shape != aligned_mask.shape:\n",
    "                print(f\"\\nSkipped {series_uid}: Dimension mismatch - DICOM {dcm_vol.shape} vs Mask {aligned_mask.shape}\")\n",
    "                skipped += 1\n",
    "                continue\n",
    "            \n",
    "            # Crop at [-600:, :, :]\n",
    "            crop_start = max(0, aligned_mask.shape[0] - 600)\n",
    "            cropped_mask = aligned_mask[crop_start:, :, :]\n",
    "            \n",
    "            if np.any(aligned_mask[:crop_start, :, :]):\n",
    "                print(f\"\\nWarning: Non-zero values found in cropped region for {series_uid}\")\n",
    "                # print the minimum depth of non-zero values\n",
    "                non_zero_indices = np.argwhere(aligned_mask[:crop_start, :, :])\n",
    "                if non_zero_indices.size > 0:\n",
    "                    min_index = non_zero_indices[:, 0].min()\n",
    "                    depth = aligned_mask.shape[0] - min_index\n",
    "                    print(f\"  Minimum index of non-zero value in cropped region: {min_index}, depth from end: {depth}, total depth: {aligned_mask.shape[0]}\")\n",
    "            \n",
    "            # Resize to 256x256x256 using nearest neighbor\n",
    "            mask_256 = resize_mask(cropped_mask, (256, 256, 256), order=0)\n",
    "            \n",
    "            # Save\n",
    "            output_file = os.path.join(output_path, f\"{series_uid}.npy\")\n",
    "            np.save(output_file, mask_256)\n",
    "            \n",
    "            successful += 1\n",
    "            \n",
    "        except Exception as e:\n",
    "            print(f\"\\nError processing {series_uid}: {e}\") \n",
    "            errors += 1\n",
    "            continue\n",
    "    \n",
    "    # Summary\n",
    "    print(f\"\\n{'='*80}\")\n",
    "    print(\"PROCESSING SUMMARY\")\n",
    "    print(f\"{'='*80}\")\n",
    "    print(f\"Successfully processed: {successful}\")\n",
    "    print(f\"Skipped (excluded/not found/errors): {skipped}\")\n",
    "    print(f\"Errors: {errors}\")\n",
    "    print(f\"Total: {len(mask_files)}\")\n",
    "    print(f\"{'='*80}\")\n",
    "\n",
    "if __name__ == \"__main__\":\n",
    "    seg_base_path = r\"E:\\data_old\\segmentations\"\n",
    "    series_base_path = r\"E:\\data_old\\series\"\n",
    "    output_path = r\"./mask_256\"\n",
    "    \n",
    "    process_all_masks(seg_base_path, series_base_path, output_path)"
   ]
  },
  {
   "cell_type": "code",
   "execution_count": 6,
   "id": "e6387806",
   "metadata": {},
   "outputs": [
    {
     "ename": "SyntaxError",
     "evalue": "invalid syntax (2830724151.py, line 1)",
     "output_type": "error",
     "traceback": [
      "\u001b[1;36m  File \u001b[1;32m\"C:\\Users\\yyuan57\\AppData\\Local\\Temp\\ipykernel_54120\\2830724151.py\"\u001b[1;36m, line \u001b[1;32m1\u001b[0m\n\u001b[1;33m    1.2.826.0.1.3680043.8.498.23047023542526806696555440426928375679 [102] = 0\u001b[0m\n\u001b[1;37m          ^\u001b[0m\n\u001b[1;31mSyntaxError\u001b[0m\u001b[1;31m:\u001b[0m invalid syntax\n"
     ]
    }
   ],
   "source": [
    "1.2.826.0.1.3680043.8.498.23047023542526806696555440426928375679 [102] = 0"
   ]
  }
 ],
 "metadata": {
  "kernelspec": {
   "display_name": "yyuan57",
   "language": "python",
   "name": "python3"
  },
  "language_info": {
   "codemirror_mode": {
    "name": "ipython",
    "version": 3
   },
   "file_extension": ".py",
   "mimetype": "text/x-python",
   "name": "python",
   "nbconvert_exporter": "python",
   "pygments_lexer": "ipython3",
   "version": "3.7.3"
  }
 },
 "nbformat": 4,
 "nbformat_minor": 5
}
