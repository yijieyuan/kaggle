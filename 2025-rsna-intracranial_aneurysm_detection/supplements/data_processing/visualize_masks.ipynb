{
 "cells": [
  {
   "cell_type": "code",
   "execution_count": 2,
   "id": "dcc8cf67",
   "metadata": {},
   "outputs": [
    {
     "name": "stdout",
     "output_type": "stream",
     "text": [
      "Found 170 mask files to visualize\n",
      "\n"
     ]
    },
    {
     "name": "stderr",
     "output_type": "stream",
     "text": [
      "Creating visualizations: 100%|██████████| 170/170 [00:42<00:00,  4.02it/s]"
     ]
    },
    {
     "name": "stdout",
     "output_type": "stream",
     "text": [
      "\n",
      "================================================================================\n",
      "VISUALIZATION SUMMARY\n",
      "================================================================================\n",
      "Successfully visualized: 170\n",
      "Skipped: 0\n",
      "Total: 170\n",
      "================================================================================\n"
     ]
    },
    {
     "name": "stderr",
     "output_type": "stream",
     "text": [
      "\n"
     ]
    }
   ],
   "source": [
    "import os\n",
    "import numpy as np\n",
    "import matplotlib.pyplot as plt\n",
    "from pathlib import Path\n",
    "from tqdm import tqdm\n",
    "\n",
    "def visualize_masks(volume_dir, mask_dir, output_dir):\n",
    "    \"\"\"Visualize masks overlaid on volumes\"\"\"\n",
    "    \n",
    "    # Create output directory\n",
    "    os.makedirs(output_dir, exist_ok=True)\n",
    "    \n",
    "    # Get all mask files\n",
    "    mask_files = list(Path(mask_dir).glob('*.npy'))\n",
    "    \n",
    "    print(f\"Found {len(mask_files)} mask files to visualize\\n\")\n",
    "    \n",
    "    successful = 0\n",
    "    skipped = 0\n",
    "    \n",
    "    for mask_file in tqdm(mask_files, desc=\"Creating visualizations\"):\n",
    "        series_uid = mask_file.stem\n",
    "        volume_file = Path(volume_dir) / f\"{series_uid}.npy\"\n",
    "        \n",
    "        # Check if corresponding volume exists\n",
    "        if not volume_file.exists():\n",
    "            print(f\"\\nSkipped {series_uid}: Volume file not found\")\n",
    "            skipped += 1\n",
    "            continue\n",
    "        \n",
    "        try:\n",
    "            # Load volume and mask\n",
    "            volume = np.load(volume_file)\n",
    "            mask = np.load(mask_file)\n",
    "            \n",
    "            # Check shapes match\n",
    "            if volume.shape != mask.shape:\n",
    "                print(f\"\\nSkipped {series_uid}: Shape mismatch - Volume {volume.shape} vs Mask {mask.shape}\")\n",
    "                skipped += 1\n",
    "                continue\n",
    "            \n",
    "            # Find slice with largest mask area (sum along dim 1 and 2)\n",
    "            mask_areas = np.sum(mask, axis=(1, 2))\n",
    "            max_slice_idx = np.argmax(mask_areas)\n",
    "            \n",
    "            # Skip if no mask present\n",
    "            if mask_areas[max_slice_idx] == 0:\n",
    "                print(f\"\\nSkipped {series_uid}: No mask present\")\n",
    "                skipped += 1\n",
    "                continue\n",
    "            \n",
    "            # Create figure with 3 subplots\n",
    "            fig, axes = plt.subplots(1, 3, figsize=(15, 5))\n",
    "            \n",
    "            # Plot 1: Volume only\n",
    "            axes[0].imshow(volume[max_slice_idx], cmap='gray')\n",
    "            axes[0].set_title(f'Volume - Slice {max_slice_idx}')\n",
    "            axes[0].axis('off')\n",
    "            \n",
    "            # Plot 2: Mask only\n",
    "            axes[1].imshow(mask[max_slice_idx], cmap='jet')\n",
    "            axes[1].set_title(f'Mask - Slice {max_slice_idx}')\n",
    "            axes[1].axis('off')\n",
    "            \n",
    "            # Plot 3: Overlay\n",
    "            axes[2].imshow(volume[max_slice_idx], cmap='gray', alpha=1.0)\n",
    "            # Only show mask where it's non-zero\n",
    "            mask_slice = mask[max_slice_idx]\n",
    "            masked_overlay = np.ma.masked_where(mask_slice == 0, mask_slice)\n",
    "            axes[2].imshow(masked_overlay, cmap='jet', alpha=0.5)\n",
    "            axes[2].set_title(f'Overlay - Slice {max_slice_idx}')\n",
    "            axes[2].axis('off')\n",
    "            \n",
    "            # Add series UID as figure title\n",
    "            fig.suptitle(f'Series: {series_uid}', fontsize=10, y=0.98)\n",
    "            \n",
    "            plt.tight_layout()\n",
    "            \n",
    "            # Save figure\n",
    "            output_file = Path(output_dir) / f\"{series_uid}.png\"\n",
    "            plt.savefig(output_file, dpi=100, bbox_inches='tight')\n",
    "            plt.close()\n",
    "            \n",
    "            successful += 1\n",
    "            \n",
    "        except Exception as e:\n",
    "            print(f\"\\nError processing {series_uid}: {e}\")\n",
    "            skipped += 1\n",
    "            continue\n",
    "    \n",
    "    # Summary\n",
    "    print(f\"\\n{'='*80}\")\n",
    "    print(\"VISUALIZATION SUMMARY\")\n",
    "    print(f\"{'='*80}\")\n",
    "    print(f\"Successfully visualized: {successful}\")\n",
    "    print(f\"Skipped: {skipped}\")\n",
    "    print(f\"Total: {len(mask_files)}\")\n",
    "    print(f\"{'='*80}\")\n",
    "\n",
    "if __name__ == \"__main__\":\n",
    "    volume_dir = r\"./volume_uint8_256\"\n",
    "    mask_dir = r\"./mask_256\"\n",
    "    output_dir = r\"./visualize_masks\"\n",
    "    \n",
    "    visualize_masks(volume_dir, mask_dir, output_dir)"
   ]
  }
 ],
 "metadata": {
  "kernelspec": {
   "display_name": "yyuan57",
   "language": "python",
   "name": "python3"
  },
  "language_info": {
   "codemirror_mode": {
    "name": "ipython",
    "version": 3
   },
   "file_extension": ".py",
   "mimetype": "text/x-python",
   "name": "python",
   "nbconvert_exporter": "python",
   "pygments_lexer": "ipython3",
   "version": "3.7.3"
  }
 },
 "nbformat": 4,
 "nbformat_minor": 5
}
